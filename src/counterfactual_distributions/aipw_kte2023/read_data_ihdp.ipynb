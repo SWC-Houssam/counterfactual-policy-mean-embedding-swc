{
 "cells": [
  {
   "cell_type": "code",
   "execution_count": 5,
   "metadata": {},
   "outputs": [],
   "source": [
    "import numpy as np\n",
    "import pandas as pd\n",
    "import matplotlib.pyplot as plt\n",
    "import seaborn as sns\n",
    "from scipy.stats import norm\n",
    "import scipy.stats as stats\n",
    "import statistics"
   ]
  },
  {
   "cell_type": "code",
   "execution_count": 9,
   "metadata": {},
   "outputs": [],
   "source": [
    "d = dict()\n",
    "name_folder = 'data_ihdp/'\n",
    "\n",
    "b_list = ['II', 'III', 'IV', 'V', 'VI']\n",
    "method_list = ['DR-xKTE', 'IPW-xKTE', 'BART', 'CausalForest', 'Vanilla_DR']\n",
    "method_names = ['DR-xKTE', 'IPW-xKTE', 'BART', 'CausalForest', 'Vanilla_DR']\n",
    "for b in b_list:\n",
    "    for method in method_list:\n",
    "        name = name_folder + 'b' + b + method + '.csv'\n",
    "        d[name] = pd.read_csv(name, index_col = 0)"
   ]
  },
  {
   "cell_type": "code",
   "execution_count": 10,
   "metadata": {},
   "outputs": [
    {
     "data": {
      "text/plain": [
       "array([[0.44, 0.11, 0.77, 1.  , 0.95],\n",
       "       [0.34, 0.05, 0.15, 0.04, 0.  ],\n",
       "       [0.53, 0.18, 0.24, 0.05, 0.  ],\n",
       "       [0.99, 0.9 , 0.1 , 1.  , 1.  ],\n",
       "       [0.03, 0.  , 0.04, 0.  , 0.  ]])"
      ]
     },
     "execution_count": 10,
     "metadata": {},
     "output_type": "execute_result"
    }
   ],
   "source": [
    "rejection_proportion = np.zeros((len(b_list), len(method_list)))\n",
    "confidence_level = 0.05\n",
    "\n",
    "for i, b in enumerate(b_list):\n",
    "    for j, method in enumerate(method_list):\n",
    "        name = name_folder + 'b' + b + method + '.csv'\n",
    "        rejection_proportion[i, j] = (d[name]['p_values'] < confidence_level).mean()\n",
    "        \n",
    "rejection_proportion"
   ]
  },
  {
   "cell_type": "code",
   "execution_count": 11,
   "metadata": {},
   "outputs": [
    {
     "data": {
      "text/html": [
       "<div>\n",
       "<style scoped>\n",
       "    .dataframe tbody tr th:only-of-type {\n",
       "        vertical-align: middle;\n",
       "    }\n",
       "\n",
       "    .dataframe tbody tr th {\n",
       "        vertical-align: top;\n",
       "    }\n",
       "\n",
       "    .dataframe thead th {\n",
       "        text-align: right;\n",
       "    }\n",
       "</style>\n",
       "<table border=\"1\" class=\"dataframe\">\n",
       "  <thead>\n",
       "    <tr style=\"text-align: right;\">\n",
       "      <th></th>\n",
       "      <th>DR-xKTE</th>\n",
       "      <th>IPW-xKTE</th>\n",
       "      <th>BART</th>\n",
       "      <th>CausalForest</th>\n",
       "      <th>Vanilla_DR</th>\n",
       "    </tr>\n",
       "  </thead>\n",
       "  <tbody>\n",
       "    <tr>\n",
       "      <th>II</th>\n",
       "      <td>0.44</td>\n",
       "      <td>0.11</td>\n",
       "      <td>0.77</td>\n",
       "      <td>1.00</td>\n",
       "      <td>0.95</td>\n",
       "    </tr>\n",
       "    <tr>\n",
       "      <th>III</th>\n",
       "      <td>0.34</td>\n",
       "      <td>0.05</td>\n",
       "      <td>0.15</td>\n",
       "      <td>0.04</td>\n",
       "      <td>0.00</td>\n",
       "    </tr>\n",
       "    <tr>\n",
       "      <th>IV</th>\n",
       "      <td>0.53</td>\n",
       "      <td>0.18</td>\n",
       "      <td>0.24</td>\n",
       "      <td>0.05</td>\n",
       "      <td>0.00</td>\n",
       "    </tr>\n",
       "    <tr>\n",
       "      <th>V</th>\n",
       "      <td>0.99</td>\n",
       "      <td>0.90</td>\n",
       "      <td>0.10</td>\n",
       "      <td>1.00</td>\n",
       "      <td>1.00</td>\n",
       "    </tr>\n",
       "    <tr>\n",
       "      <th>VI</th>\n",
       "      <td>0.03</td>\n",
       "      <td>0.00</td>\n",
       "      <td>0.04</td>\n",
       "      <td>0.00</td>\n",
       "      <td>0.00</td>\n",
       "    </tr>\n",
       "  </tbody>\n",
       "</table>\n",
       "</div>"
      ],
      "text/plain": [
       "     DR-xKTE  IPW-xKTE  BART  CausalForest  Vanilla_DR\n",
       "II      0.44      0.11  0.77          1.00        0.95\n",
       "III     0.34      0.05  0.15          0.04        0.00\n",
       "IV      0.53      0.18  0.24          0.05        0.00\n",
       "V       0.99      0.90  0.10          1.00        1.00\n",
       "VI      0.03      0.00  0.04          0.00        0.00"
      ]
     },
     "execution_count": 11,
     "metadata": {},
     "output_type": "execute_result"
    }
   ],
   "source": [
    "df = pd.DataFrame(rejection_proportion, b_list, method_names)\n",
    "df"
   ]
  },
  {
   "cell_type": "code",
   "execution_count": 12,
   "metadata": {},
   "outputs": [
    {
     "name": "stdout",
     "output_type": "stream",
     "text": [
      "\\begin{tabular}{lrrrrr}\n",
      "\\toprule\n",
      "{} &   II &  III &   IV &    V &   VI \\\\\n",
      "\\midrule\n",
      "DR-xKTE      & 0.44 & 0.34 & 0.53 & 0.99 & 0.03 \\\\\n",
      "IPW-xKTE     & 0.11 & 0.05 & 0.18 & 0.90 & 0.00 \\\\\n",
      "BART         & 0.77 & 0.15 & 0.24 & 0.10 & 0.04 \\\\\n",
      "CausalForest & 1.00 & 0.04 & 0.05 & 1.00 & 0.00 \\\\\n",
      "Vanilla\\_DR   & 0.95 & 0.00 & 0.00 & 1.00 & 0.00 \\\\\n",
      "\\bottomrule\n",
      "\\end{tabular}\n",
      "\n"
     ]
    }
   ],
   "source": [
    "print(df.T.to_latex(float_format=\"{:0.2f}\".format))"
   ]
  }
 ],
 "metadata": {
  "kernelspec": {
   "display_name": "Python 3",
   "language": "python",
   "name": "python3"
  },
  "language_info": {
   "codemirror_mode": {
    "name": "ipython",
    "version": 3
   },
   "file_extension": ".py",
   "mimetype": "text/x-python",
   "name": "python",
   "nbconvert_exporter": "python",
   "pygments_lexer": "ipython3",
   "version": "3.8.5"
  }
 },
 "nbformat": 4,
 "nbformat_minor": 4
}
