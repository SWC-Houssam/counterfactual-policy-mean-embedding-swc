{
 "cells": [
  {
   "cell_type": "code",
   "execution_count": 1,
   "metadata": {},
   "outputs": [
    {
     "name": "stderr",
     "output_type": "stream",
     "text": [
      "2025-05-18 17:49:14.733288: E external/local_xla/xla/stream_executor/cuda/cuda_fft.cc:467] Unable to register cuFFT factory: Attempting to register factory for plugin cuFFT when one has already been registered\n",
      "WARNING: All log messages before absl::InitializeLog() is called are written to STDERR\n",
      "E0000 00:00:1747590555.689942 2316174 cuda_dnn.cc:8579] Unable to register cuDNN factory: Attempting to register factory for plugin cuDNN when one has already been registered\n",
      "E0000 00:00:1747590556.050538 2316174 cuda_blas.cc:1407] Unable to register cuBLAS factory: Attempting to register factory for plugin cuBLAS when one has already been registered\n",
      "W0000 00:00:1747590558.338777 2316174 computation_placer.cc:177] computation placer already registered. Please check linkage and avoid linking the same target more than once.\n",
      "W0000 00:00:1747590558.338879 2316174 computation_placer.cc:177] computation placer already registered. Please check linkage and avoid linking the same target more than once.\n",
      "W0000 00:00:1747590558.338885 2316174 computation_placer.cc:177] computation placer already registered. Please check linkage and avoid linking the same target more than once.\n",
      "W0000 00:00:1747590558.338890 2316174 computation_placer.cc:177] computation placer already registered. Please check linkage and avoid linking the same target more than once.\n",
      "2025-05-18 17:49:18.555309: I tensorflow/core/platform/cpu_feature_guard.cc:210] This TensorFlow binary is optimized to use available CPU instructions in performance-critical operations.\n",
      "To enable the following instructions: AVX2 FMA, in other operations, rebuild TensorFlow with the appropriate compiler flags.\n"
     ]
    }
   ],
   "source": [
    "num_experiments = 10\n",
    "observation_sizes = [100, 1000, 5000]\n",
    "num_cv = 5\n",
    "\n",
    "import numpy as np\n",
    "import pandas as pd\n",
    "import matplotlib.pyplot as plt\n",
    "import seaborn as sns\n",
    "from tqdm import tqdm\n",
    "from sklearn.metrics.pairwise import rbf_kernel\n",
    "from scipy.spatial.distance import pdist\n",
    "from Environment import AvgEnvironment\n",
    "from Policy import MultinomialPolicy\n",
    "from ParameterSelector import ParameterSelector\n",
    "# from kernel import Exponential, Gaussian, Linear, Polynomial, RationalQuadratic\n",
    "from Estimator_CPME import *"
   ]
  },
  {
   "cell_type": "code",
   "execution_count": 2,
   "metadata": {},
   "outputs": [
    {
     "name": "stdout",
     "output_type": "stream",
     "text": [
      "[PhysicalDevice(name='/physical_device:GPU:0', device_type='GPU')]\n"
     ]
    }
   ],
   "source": [
    "import tensorflow as tf\n",
    "print(tf.config.list_physical_devices('GPU'))"
   ]
  },
  {
   "cell_type": "code",
   "execution_count": 3,
   "metadata": {},
   "outputs": [],
   "source": [
    "config = {\n",
    "    \"n_users\": 50,\n",
    "    \"n_items\": 20,\n",
    "    \"context_dim\": 10,\n",
    "    \"n_reco\": 4,\n",
    "}\n",
    "\n",
    "obs_size = 5000\n",
    "num_iter = 5"
   ]
  },
  {
   "cell_type": "code",
   "execution_count": 4,
   "metadata": {},
   "outputs": [
    {
     "name": "stdout",
     "output_type": "stream",
     "text": [
      "[Parallel(n_jobs=-1)]: Using backend LokyBackend with 2 concurrent workers.\n"
     ]
    },
    {
     "name": "stderr",
     "output_type": "stream",
     "text": [
      "2025-05-18 17:49:44.226759: E external/local_xla/xla/stream_executor/cuda/cuda_fft.cc:467] Unable to register cuFFT factory: Attempting to register factory for plugin cuFFT when one has already been registered\n",
      "2025-05-18 17:49:44.248971: E external/local_xla/xla/stream_executor/cuda/cuda_fft.cc:467] Unable to register cuFFT factory: Attempting to register factory for plugin cuFFT when one has already been registered\n",
      "WARNING: All log messages before absl::InitializeLog() is called are written to STDERR\n",
      "E0000 00:00:1747590584.261513 2316242 cuda_dnn.cc:8579] Unable to register cuDNN factory: Attempting to register factory for plugin cuDNN when one has already been registered\n",
      "E0000 00:00:1747590584.272633 2316242 cuda_blas.cc:1407] Unable to register cuBLAS factory: Attempting to register factory for plugin cuBLAS when one has already been registered\n",
      "WARNING: All log messages before absl::InitializeLog() is called are written to STDERR\n",
      "E0000 00:00:1747590584.284686 2316243 cuda_dnn.cc:8579] Unable to register cuDNN factory: Attempting to register factory for plugin cuDNN when one has already been registered\n",
      "E0000 00:00:1747590584.295953 2316243 cuda_blas.cc:1407] Unable to register cuBLAS factory: Attempting to register factory for plugin cuBLAS when one has already been registered\n",
      "W0000 00:00:1747590584.300278 2316242 computation_placer.cc:177] computation placer already registered. Please check linkage and avoid linking the same target more than once.\n",
      "W0000 00:00:1747590584.300358 2316242 computation_placer.cc:177] computation placer already registered. Please check linkage and avoid linking the same target more than once.\n",
      "W0000 00:00:1747590584.300396 2316242 computation_placer.cc:177] computation placer already registered. Please check linkage and avoid linking the same target more than once.\n",
      "W0000 00:00:1747590584.300435 2316242 computation_placer.cc:177] computation placer already registered. Please check linkage and avoid linking the same target more than once.\n",
      "2025-05-18 17:49:44.308501: I tensorflow/core/platform/cpu_feature_guard.cc:210] This TensorFlow binary is optimized to use available CPU instructions in performance-critical operations.\n",
      "To enable the following instructions: AVX2 FMA, in other operations, rebuild TensorFlow with the appropriate compiler flags.\n",
      "W0000 00:00:1747590584.319391 2316243 computation_placer.cc:177] computation placer already registered. Please check linkage and avoid linking the same target more than once.\n",
      "W0000 00:00:1747590584.319408 2316243 computation_placer.cc:177] computation placer already registered. Please check linkage and avoid linking the same target more than once.\n",
      "W0000 00:00:1747590584.319411 2316243 computation_placer.cc:177] computation placer already registered. Please check linkage and avoid linking the same target more than once.\n",
      "W0000 00:00:1747590584.319414 2316243 computation_placer.cc:177] computation placer already registered. Please check linkage and avoid linking the same target more than once.\n",
      "2025-05-18 17:49:44.325207: I tensorflow/core/platform/cpu_feature_guard.cc:210] This TensorFlow binary is optimized to use available CPU instructions in performance-critical operations.\n",
      "To enable the following instructions: AVX2 FMA, in other operations, rebuild TensorFlow with the appropriate compiler flags.\n"
     ]
    },
    {
     "name": "stdout",
     "output_type": "stream",
     "text": [
      "[Parallel(n_jobs=-1)]: Done   1 tasks      | elapsed:   13.8s\n",
      "[Parallel(n_jobs=-1)]: Done   2 tasks      | elapsed:   13.8s\n",
      "[Parallel(n_jobs=-1)]: Done   3 tasks      | elapsed:   18.8s\n",
      "[Parallel(n_jobs=-1)]: Done   4 tasks      | elapsed:   18.9s\n",
      "[Parallel(n_jobs=-1)]: Done   5 tasks      | elapsed:   23.6s\n",
      "[Parallel(n_jobs=-1)]: Done   6 tasks      | elapsed:   23.7s\n",
      "[Parallel(n_jobs=-1)]: Done   7 tasks      | elapsed:   28.4s\n",
      "[Parallel(n_jobs=-1)]: Done   8 tasks      | elapsed:   28.5s\n",
      "[Parallel(n_jobs=-1)]: Done   9 tasks      | elapsed:   33.2s\n",
      "[Parallel(n_jobs=-1)]: Done  10 tasks      | elapsed:   33.4s\n",
      "[Parallel(n_jobs=-1)]: Done  11 tasks      | elapsed:   38.0s\n",
      "[Parallel(n_jobs=-1)]: Done  12 tasks      | elapsed:   38.3s\n",
      "[Parallel(n_jobs=-1)]: Done  13 tasks      | elapsed:   42.9s\n",
      "[Parallel(n_jobs=-1)]: Done  14 tasks      | elapsed:   43.1s\n",
      "[Parallel(n_jobs=-1)]: Done  15 tasks      | elapsed:   47.7s\n",
      "[Parallel(n_jobs=-1)]: Done  16 tasks      | elapsed:   47.8s\n",
      "[Parallel(n_jobs=-1)]: Done  17 tasks      | elapsed:   52.4s\n",
      "[Parallel(n_jobs=-1)]: Done  18 tasks      | elapsed:   52.6s\n",
      "[Parallel(n_jobs=-1)]: Done  19 tasks      | elapsed:   57.2s\n",
      "[Parallel(n_jobs=-1)]: Done  20 tasks      | elapsed:   57.4s\n",
      "[Parallel(n_jobs=-1)]: Done  21 tasks      | elapsed:  1.0min\n",
      "[Parallel(n_jobs=-1)]: Done  22 tasks      | elapsed:  1.0min\n",
      "[Parallel(n_jobs=-1)]: Done  23 tasks      | elapsed:  1.1min\n",
      "[Parallel(n_jobs=-1)]: Done  24 tasks      | elapsed:  1.1min\n",
      "[Parallel(n_jobs=-1)]: Done  25 tasks      | elapsed:  1.2min\n",
      "[Parallel(n_jobs=-1)]: Done  26 tasks      | elapsed:  1.2min\n",
      "[Parallel(n_jobs=-1)]: Done  27 tasks      | elapsed:  1.3min\n",
      "[Parallel(n_jobs=-1)]: Done  28 tasks      | elapsed:  1.3min\n",
      "[Parallel(n_jobs=-1)]: Done  29 tasks      | elapsed:  1.4min\n",
      "[Parallel(n_jobs=-1)]: Done  30 tasks      | elapsed:  1.4min\n",
      "[Parallel(n_jobs=-1)]: Done  31 tasks      | elapsed:  1.4min\n",
      "[Parallel(n_jobs=-1)]: Done  32 tasks      | elapsed:  1.4min\n",
      "[Parallel(n_jobs=-1)]: Done  33 tasks      | elapsed:  1.5min\n",
      "[Parallel(n_jobs=-1)]: Done  34 tasks      | elapsed:  1.5min\n",
      "[Parallel(n_jobs=-1)]: Done  35 tasks      | elapsed:  1.6min\n",
      "[Parallel(n_jobs=-1)]: Done  36 tasks      | elapsed:  1.6min\n",
      "[Parallel(n_jobs=-1)]: Done  37 tasks      | elapsed:  1.7min\n",
      "[Parallel(n_jobs=-1)]: Done  38 tasks      | elapsed:  1.7min\n",
      "[Parallel(n_jobs=-1)]: Done  39 tasks      | elapsed:  1.8min\n",
      "[Parallel(n_jobs=-1)]: Done  40 tasks      | elapsed:  1.8min\n",
      "[Parallel(n_jobs=-1)]: Done  41 tasks      | elapsed:  1.8min\n",
      "[Parallel(n_jobs=-1)]: Done  42 tasks      | elapsed:  1.8min\n",
      "[Parallel(n_jobs=-1)]: Done  43 tasks      | elapsed:  1.9min\n",
      "[Parallel(n_jobs=-1)]: Done  44 tasks      | elapsed:  1.9min\n",
      "[Parallel(n_jobs=-1)]: Done  45 tasks      | elapsed:  2.0min\n",
      "[Parallel(n_jobs=-1)]: Done  46 tasks      | elapsed:  2.0min\n",
      "[Parallel(n_jobs=-1)]: Done  47 tasks      | elapsed:  2.1min\n",
      "[Parallel(n_jobs=-1)]: Done  50 out of  50 | elapsed:  2.2min finished\n"
     ]
    }
   ],
   "source": [
    "# === Generate environment ===\n",
    "user_vectors = np.random.normal(0, 1, size=(config[\"n_users\"], config[\"context_dim\"]))\n",
    "target_user_vectors = user_vectors * np.random.binomial(1, 0.5, size=user_vectors.shape)\n",
    "item_vectors = np.random.normal(0, 1, size=(config[\"n_items\"], config[\"context_dim\"]))\n",
    "\n",
    "alpha = -0.3\n",
    "logging_user_vectors = alpha * target_user_vectors\n",
    "\n",
    "logging_policy = MultinomialPolicy(item_vectors, logging_user_vectors, config[\"n_items\"], config[\"n_reco\"], temperature=0.5, cal_gamma=True)\n",
    "target_policy = MultinomialPolicy(item_vectors, target_user_vectors, config[\"n_items\"], config[\"n_reco\"], temperature=1.0, cal_gamma=False)\n",
    "environment = AvgEnvironment(item_vectors, user_vectors)\n",
    "\n",
    "seed = 0\n",
    "np.random.seed(seed)\n",
    "\n",
    "# === Generate simulation data ===\n",
    "sim_data = []\n",
    "for _ in range(obs_size):\n",
    "    user = environment.get_context()\n",
    "\n",
    "    logging_reco, logging_multinomial, logging_user_vector = logging_policy.recommend(user)\n",
    "    target_reco, target_multinomial, _ = target_policy.recommend(user)\n",
    "\n",
    "    sim_data.append({\n",
    "        \"null_context_vec\": logging_user_vector,\n",
    "        \"target_context_vec\": logging_user_vector,\n",
    "        \"null_reco\": tuple(logging_reco),\n",
    "        \"null_reco_vec\": np.concatenate(item_vectors[logging_reco]),\n",
    "        \"null_reward\": environment.get_reward(user, logging_reco),\n",
    "        \"target_reco\": tuple(target_reco),\n",
    "        \"target_multinomial\": target_multinomial,\n",
    "        \"target_reco_vec\": np.concatenate(item_vectors[target_reco]),\n",
    "        \"target_reward\": environment.get_reward(user, target_reco),\n",
    "        \"null_multinomial\": logging_multinomial,\n",
    "        \"user\": user,\n",
    "    })\n",
    "\n",
    "sim_data = pd.DataFrame(sim_data)"
   ]
  },
  {
   "cell_type": "code",
   "execution_count": 54,
   "metadata": {},
   "outputs": [
    {
     "name": "stdout",
     "output_type": "stream",
     "text": [
      "MSE : 0.0005904208689124463\n"
     ]
    }
   ],
   "source": [
    "# === Calculate results ===\n",
    "actual_value = np.mean(sim_data[\"target_reward\"])\n",
    "\n",
    "estimator_name = \"CMEbis\"\n",
    "\n",
    "if estimator_name == \"IPS\":\n",
    "    estimator = IPSEstimator(logging_policy, target_policy, null_propensity_known = True)\n",
    "elif estimator_name == \"DirectEstimator\":\n",
    "    estimator = DirectEstimator()\n",
    "    # parameter selection\n",
    "    direct_selector = ParameterSelector(estimator)  # direct estimator\n",
    "    params_grid = [(n_hiddens, 1024, 100) for n_hiddens in [50, 100, 150, 200]]\n",
    "    direct_selector.select_from_propensity(sim_data, params_grid, logging_policy, target_policy)\n",
    "    estimator = direct_selector.estimator\n",
    "elif estimator_name == \"DoublyRobustEstimator\":\n",
    "    estimator = DoublyRobustEstimator(logging_policy, target_policy, null_propensity_known = True)\n",
    "    try:\n",
    "        estimator.params = direct_selector.parameters  # doubly robust estimator\n",
    "    except:\n",
    "        pass\n",
    "elif estimator_name == \"CMEbis\":\n",
    "    estimator = CMEbis(rbf_kernel, rbf_kernel, params=[5e-8, 1.0, 1.0])\n",
    "    cme_selector = ParameterSelector(estimator)  # cme estimator\n",
    "    params_grid = [[(10.0 ** p) / obs_size, 1.0, 1.0] for p in np.arange(-9, -2, 1)]\n",
    "    cme_selector.select_from_propensity(sim_data, params_grid, logging_policy, target_policy)\n",
    "    estimator = cme_selector.estimator\n",
    "\n",
    "elif estimator_name == \"DoublyRobustbis\":\n",
    "    estimator = DoublyRobustbis(rbf_kernel, rbf_kernel, [5e-5, 1.0, 1.0], logging_policy, target_policy, null_propensity_known = True)\n",
    "    estimator.params = cme_selector.estimator._params\n",
    "    \n",
    "# === Prepare features for reward estimators ===\n",
    "logging_context_vec = np.vstack(sim_data[\"null_context_vec\"].dropna().values)\n",
    "logging_reco_vec = np.vstack(sim_data[\"null_reco_vec\"].dropna().values)\n",
    "logging_reward = sim_data[\"null_reward\"].dropna().values\n",
    "\n",
    "X_logging = np.hstack([logging_context_vec, logging_reco_vec])\n",
    "# === Train reward models where needed ===\n",
    "if isinstance(estimator, DirectEstimator):\n",
    "    estimator.fit(X_logging, logging_reward, n_hidden_units=estimator.params[0], batch_size=1024, epochs=100)\n",
    "if isinstance(estimator, DoublyRobustEstimator):\n",
    "    estimator.fit(X_logging, logging_reward)\n",
    "est_value = estimator.estimate(sim_data)\n",
    "mse = (est_value - actual_value) ** 2\n",
    "print(\"MSE : {}\".format(mse))"
   ]
  },
  {
   "cell_type": "code",
   "execution_count": 27,
   "metadata": {},
   "outputs": [
    {
     "data": {
      "text/plain": [
       "[np.float64(2e-13), 1.0, 1.0]"
      ]
     },
     "execution_count": 27,
     "metadata": {},
     "output_type": "execute_result"
    }
   ],
   "source": [
    "estimator._params"
   ]
  },
  {
   "cell_type": "code",
   "execution_count": 49,
   "metadata": {},
   "outputs": [
    {
     "data": {
      "text/plain": [
       "9.99998e-08"
      ]
     },
     "execution_count": 49,
     "metadata": {},
     "output_type": "execute_result"
    }
   ],
   "source": [
    "abs(2e-13 - 10 ** -7)"
   ]
  }
 ],
 "metadata": {
  "kernelspec": {
   "display_name": "Python 3 (ipykernel)",
   "language": "python",
   "name": "python3"
  },
  "language_info": {
   "codemirror_mode": {
    "name": "ipython",
    "version": 3
   },
   "file_extension": ".py",
   "mimetype": "text/x-python",
   "name": "python",
   "nbconvert_exporter": "python",
   "pygments_lexer": "ipython3",
   "version": "3.10.16"
  }
 },
 "nbformat": 4,
 "nbformat_minor": 4
}
