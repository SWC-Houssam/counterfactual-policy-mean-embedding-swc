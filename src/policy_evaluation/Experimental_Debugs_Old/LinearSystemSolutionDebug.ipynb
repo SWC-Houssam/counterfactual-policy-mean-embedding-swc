{
 "cells": [
  {
   "cell_type": "code",
   "execution_count": 1,
   "id": "1de4d29f-7727-43c6-b30a-336328a80502",
   "metadata": {},
   "outputs": [],
   "source": [
    "import numpy as np\n",
    "import pandas as pd\n",
    "import scipy\n",
    "from scipy.sparse.linalg import cg"
   ]
  },
  {
   "cell_type": "code",
   "execution_count": 2,
   "id": "0825c66b-212c-4b28-aebc-fc39377aaf1d",
   "metadata": {},
   "outputs": [],
   "source": [
    "A = np.random.randn(5000, 5000)\n",
    "A = A @ A.T\n",
    "b = np.random.randn(5000, 1)"
   ]
  },
  {
   "cell_type": "code",
   "execution_count": 3,
   "id": "6aba455f-3908-4562-9e2b-a85202044b5c",
   "metadata": {},
   "outputs": [
    {
     "name": "stdout",
     "output_type": "stream",
     "text": [
      "1.28 s ± 16.9 ms per loop (mean ± std. dev. of 7 runs, 1 loop each)\n"
     ]
    }
   ],
   "source": [
    "%timeit np.linalg.solve(A, b)"
   ]
  },
  {
   "cell_type": "code",
   "execution_count": 5,
   "id": "db4ddb6e-074b-44c2-8878-78cdd0d949fa",
   "metadata": {},
   "outputs": [
    {
     "name": "stdout",
     "output_type": "stream",
     "text": [
      "2min 5s ± 200 ms per loop (mean ± std. dev. of 7 runs, 1 loop each)\n"
     ]
    }
   ],
   "source": [
    "%timeit cg(A, b, atol = 1e-5)"
   ]
  },
  {
   "cell_type": "code",
   "execution_count": 6,
   "id": "78317fbe-40de-4113-97e2-67a755d93ebb",
   "metadata": {},
   "outputs": [
    {
     "data": {
      "text/plain": [
       "(array([ 18.05579908, -26.87726264, -41.21874166, ...,  12.31147433,\n",
       "         10.00005205, -21.21261708]),\n",
       " 0)"
      ]
     },
     "execution_count": 6,
     "metadata": {},
     "output_type": "execute_result"
    }
   ],
   "source": [
    "cg(A, b, atol = 1e-5)"
   ]
  }
 ],
 "metadata": {
  "kernelspec": {
   "display_name": "Python 3 (ipykernel)",
   "language": "python",
   "name": "python3"
  },
  "language_info": {
   "codemirror_mode": {
    "name": "ipython",
    "version": 3
   },
   "file_extension": ".py",
   "mimetype": "text/x-python",
   "name": "python",
   "nbconvert_exporter": "python",
   "pygments_lexer": "ipython3",
   "version": "3.10.16"
  }
 },
 "nbformat": 4,
 "nbformat_minor": 5
}
