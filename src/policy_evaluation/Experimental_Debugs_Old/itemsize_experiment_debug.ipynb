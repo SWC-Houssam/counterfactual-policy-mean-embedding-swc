{
 "cells": [
  {
   "cell_type": "code",
   "execution_count": null,
   "id": "aa8be5b4-fc5d-423d-9654-0a6f4bf38a10",
   "metadata": {},
   "outputs": [
    {
     "name": "stderr",
     "output_type": "stream",
     "text": [
      "2025-05-19 10:10:28.602745: E external/local_xla/xla/stream_executor/cuda/cuda_fft.cc:467] Unable to register cuFFT factory: Attempting to register factory for plugin cuFFT when one has already been registered\n",
      "WARNING: All log messages before absl::InitializeLog() is called are written to STDERR\n",
      "E0000 00:00:1747649428.629614 2586608 cuda_dnn.cc:8579] Unable to register cuDNN factory: Attempting to register factory for plugin cuDNN when one has already been registered\n",
      "E0000 00:00:1747649428.638075 2586608 cuda_blas.cc:1407] Unable to register cuBLAS factory: Attempting to register factory for plugin cuBLAS when one has already been registered\n",
      "W0000 00:00:1747649428.660065 2586608 computation_placer.cc:177] computation placer already registered. Please check linkage and avoid linking the same target more than once.\n",
      "W0000 00:00:1747649428.660088 2586608 computation_placer.cc:177] computation placer already registered. Please check linkage and avoid linking the same target more than once.\n",
      "W0000 00:00:1747649428.660091 2586608 computation_placer.cc:177] computation placer already registered. Please check linkage and avoid linking the same target more than once.\n",
      "W0000 00:00:1747649428.660094 2586608 computation_placer.cc:177] computation placer already registered. Please check linkage and avoid linking the same target more than once.\n",
      "2025-05-19 10:10:28.667287: I tensorflow/core/platform/cpu_feature_guard.cc:210] This TensorFlow binary is optimized to use available CPU instructions in performance-critical operations.\n",
      "To enable the following instructions: AVX2 FMA, in other operations, rebuild TensorFlow with the appropriate compiler flags.\n"
     ]
    },
    {
     "name": "stdout",
     "output_type": "stream",
     "text": [
      "[PhysicalDevice(name='/physical_device:GPU:0', device_type='GPU')]\n",
      "[Parallel(n_jobs=-1)]: Using backend LokyBackend with 2 concurrent workers.\n"
     ]
    },
    {
     "name": "stderr",
     "output_type": "stream",
     "text": [
      "2025-05-19 10:10:35.308034: E external/local_xla/xla/stream_executor/cuda/cuda_fft.cc:467] Unable to register cuFFT factory: Attempting to register factory for plugin cuFFT when one has already been registered\n",
      "2025-05-19 10:10:35.308048: E external/local_xla/xla/stream_executor/cuda/cuda_fft.cc:467] Unable to register cuFFT factory: Attempting to register factory for plugin cuFFT when one has already been registered\n",
      "WARNING: All log messages before absl::InitializeLog() is called are written to STDERR\n",
      "WARNING: All log messages before absl::InitializeLog() is called are written to STDERR\n",
      "E0000 00:00:1747649435.353497 2586652 cuda_dnn.cc:8579] Unable to register cuDNN factory: Attempting to register factory for plugin cuDNN when one has already been registered\n",
      "E0000 00:00:1747649435.353501 2586653 cuda_dnn.cc:8579] Unable to register cuDNN factory: Attempting to register factory for plugin cuDNN when one has already been registered\n",
      "E0000 00:00:1747649435.367331 2586652 cuda_blas.cc:1407] Unable to register cuBLAS factory: Attempting to register factory for plugin cuBLAS when one has already been registered\n",
      "E0000 00:00:1747649435.367570 2586653 cuda_blas.cc:1407] Unable to register cuBLAS factory: Attempting to register factory for plugin cuBLAS when one has already been registered\n",
      "W0000 00:00:1747649435.401912 2586653 computation_placer.cc:177] computation placer already registered. Please check linkage and avoid linking the same target more than once.\n",
      "W0000 00:00:1747649435.401911 2586652 computation_placer.cc:177] computation placer already registered. Please check linkage and avoid linking the same target more than once.\n",
      "W0000 00:00:1747649435.401944 2586652 computation_placer.cc:177] computation placer already registered. Please check linkage and avoid linking the same target more than once.\n",
      "W0000 00:00:1747649435.401950 2586652 computation_placer.cc:177] computation placer already registered. Please check linkage and avoid linking the same target more than once.\n",
      "W0000 00:00:1747649435.401955 2586652 computation_placer.cc:177] computation placer already registered. Please check linkage and avoid linking the same target more than once.\n",
      "W0000 00:00:1747649435.402075 2586653 computation_placer.cc:177] computation placer already registered. Please check linkage and avoid linking the same target more than once.\n",
      "W0000 00:00:1747649435.402137 2586653 computation_placer.cc:177] computation placer already registered. Please check linkage and avoid linking the same target more than once.\n",
      "W0000 00:00:1747649435.402199 2586653 computation_placer.cc:177] computation placer already registered. Please check linkage and avoid linking the same target more than once.\n",
      "2025-05-19 10:10:35.411764: I tensorflow/core/platform/cpu_feature_guard.cc:210] This TensorFlow binary is optimized to use available CPU instructions in performance-critical operations.\n",
      "To enable the following instructions: AVX2 FMA, in other operations, rebuild TensorFlow with the appropriate compiler flags.\n",
      "2025-05-19 10:10:35.411764: I tensorflow/core/platform/cpu_feature_guard.cc:210] This TensorFlow binary is optimized to use available CPU instructions in performance-critical operations.\n",
      "To enable the following instructions: AVX2 FMA, in other operations, rebuild TensorFlow with the appropriate compiler flags.\n"
     ]
    },
    {
     "name": "stdout",
     "output_type": "stream",
     "text": [
      "[Parallel(n_jobs=-1)]: Done   1 tasks      | elapsed:   49.6s\n",
      "[Parallel(n_jobs=-1)]: Done   2 tasks      | elapsed:   50.0s\n",
      "[Parallel(n_jobs=-1)]: Done   3 tasks      | elapsed:  1.4min\n",
      "[Parallel(n_jobs=-1)]: Done   4 tasks      | elapsed:  1.4min\n",
      "[Parallel(n_jobs=-1)]: Done   5 tasks      | elapsed:  2.0min\n",
      "[Parallel(n_jobs=-1)]: Done   6 tasks      | elapsed:  2.0min\n",
      "[Parallel(n_jobs=-1)]: Done   7 tasks      | elapsed:  2.6min\n",
      "[Parallel(n_jobs=-1)]: Done   8 tasks      | elapsed:  2.7min\n",
      "[Parallel(n_jobs=-1)]: Done   9 tasks      | elapsed:  3.2min\n",
      "[Parallel(n_jobs=-1)]: Done  10 tasks      | elapsed:  3.3min\n",
      "[Parallel(n_jobs=-1)]: Done  11 tasks      | elapsed:  3.8min\n",
      "[Parallel(n_jobs=-1)]: Done  12 tasks      | elapsed:  3.9min\n",
      "[Parallel(n_jobs=-1)]: Done  13 tasks      | elapsed:  4.4min\n",
      "[Parallel(n_jobs=-1)]: Done  14 tasks      | elapsed:  4.5min\n",
      "[Parallel(n_jobs=-1)]: Done  15 tasks      | elapsed:  5.1min\n",
      "[Parallel(n_jobs=-1)]: Done  16 tasks      | elapsed:  5.1min\n",
      "[Parallel(n_jobs=-1)]: Done  17 tasks      | elapsed:  5.7min\n",
      "[Parallel(n_jobs=-1)]: Done  18 tasks      | elapsed:  5.7min\n",
      "[Parallel(n_jobs=-1)]: Done  19 tasks      | elapsed:  6.3min\n",
      "[Parallel(n_jobs=-1)]: Done  20 tasks      | elapsed:  6.3min\n",
      "[Parallel(n_jobs=-1)]: Done  21 tasks      | elapsed:  6.9min\n",
      "[Parallel(n_jobs=-1)]: Done  22 tasks      | elapsed:  6.9min\n",
      "[Parallel(n_jobs=-1)]: Done  23 tasks      | elapsed:  7.5min\n",
      "[Parallel(n_jobs=-1)]: Done  24 tasks      | elapsed:  7.5min\n",
      "[Parallel(n_jobs=-1)]: Done  25 tasks      | elapsed:  8.1min\n",
      "[Parallel(n_jobs=-1)]: Done  26 tasks      | elapsed:  8.1min\n",
      "[Parallel(n_jobs=-1)]: Done  27 tasks      | elapsed:  8.7min\n",
      "[Parallel(n_jobs=-1)]: Done  28 tasks      | elapsed:  8.7min\n",
      "[Parallel(n_jobs=-1)]: Done  29 tasks      | elapsed:  9.3min\n",
      "[Parallel(n_jobs=-1)]: Done  30 tasks      | elapsed:  9.3min\n",
      "[Parallel(n_jobs=-1)]: Done  31 tasks      | elapsed:  9.9min\n",
      "[Parallel(n_jobs=-1)]: Done  32 tasks      | elapsed:  9.9min\n",
      "[Parallel(n_jobs=-1)]: Done  33 tasks      | elapsed: 10.5min\n",
      "[Parallel(n_jobs=-1)]: Done  34 tasks      | elapsed: 10.6min\n",
      "[Parallel(n_jobs=-1)]: Done  35 tasks      | elapsed: 11.1min\n",
      "[Parallel(n_jobs=-1)]: Done  36 tasks      | elapsed: 11.2min\n",
      "[Parallel(n_jobs=-1)]: Done  37 tasks      | elapsed: 11.7min\n",
      "[Parallel(n_jobs=-1)]: Done  38 tasks      | elapsed: 11.8min\n",
      "[Parallel(n_jobs=-1)]: Done  39 tasks      | elapsed: 12.3min\n",
      "[Parallel(n_jobs=-1)]: Done  40 tasks      | elapsed: 12.4min\n",
      "[Parallel(n_jobs=-1)]: Done  41 tasks      | elapsed: 12.9min\n",
      "[Parallel(n_jobs=-1)]: Done  42 tasks      | elapsed: 13.0min\n",
      "[Parallel(n_jobs=-1)]: Done  43 tasks      | elapsed: 13.5min\n",
      "[Parallel(n_jobs=-1)]: Done  44 tasks      | elapsed: 13.6min\n",
      "[Parallel(n_jobs=-1)]: Done  45 tasks      | elapsed: 14.1min\n",
      "[Parallel(n_jobs=-1)]: Done  46 tasks      | elapsed: 14.2min\n",
      "[Parallel(n_jobs=-1)]: Done  47 tasks      | elapsed: 14.7min\n",
      "[Parallel(n_jobs=-1)]: Done  50 out of  50 | elapsed: 15.4min finished\n"
     ]
    },
    {
     "name": "stderr",
     "output_type": "stream",
     "text": [
      "Item size 20:   0%|          | 0/3 [00:00<?, ?it/s]/nfs/ghome/live/bbozkurt/.conda/envs/tensorenv/lib/python3.10/site-packages/keras/src/layers/core/dense.py:87: UserWarning: Do not pass an `input_shape`/`input_dim` argument to a layer. When using Sequential models, prefer using an `Input(shape)` object as the first layer in the model instead.\n",
      "  super().__init__(activity_regularizer=activity_regularizer, **kwargs)\n",
      "I0000 00:00:1747650359.937513 2586608 gpu_device.cc:2019] Created device /job:localhost/replica:0/task:0/device:GPU:0 with 3105 MB memory:  -> device: 0, name: NVIDIA RTX A4500, pci bus id: 0000:8a:00.0, compute capability: 8.6\n",
      "WARNING: All log messages before absl::InitializeLog() is called are written to STDERR\n",
      "I0000 00:00:1747650362.057308 2589566 service.cc:152] XLA service 0x70473c004ea0 initialized for platform CUDA (this does not guarantee that XLA will be used). Devices:\n",
      "I0000 00:00:1747650362.057333 2589566 service.cc:160]   StreamExecutor device (0): NVIDIA RTX A4500, Compute Capability 8.6\n",
      "2025-05-19 10:26:02.078526: I tensorflow/compiler/mlir/tensorflow/utils/dump_mlir_util.cc:269] disabling MLIR crash reproducer, set env var `MLIR_CRASH_REPRODUCER_DIRECTORY` to enable.\n",
      "I0000 00:00:1747650362.165583 2589566 cuda_dnn.cc:529] Loaded cuDNN version 90300\n",
      "I0000 00:00:1747650362.665075 2589566 device_compiler.h:188] Compiled cluster using XLA!  This line is logged at most once for the lifetime of the process.\n"
     ]
    },
    {
     "name": "stdout",
     "output_type": "stream",
     "text": [
      "WARNING:tensorflow:5 out of the last 9 calls to <function TensorFlowTrainer.make_predict_function.<locals>.one_step_on_data_distributed at 0x70480a583d90> triggered tf.function retracing. Tracing is expensive and the excessive number of tracings could be due to (1) creating @tf.function repeatedly in a loop, (2) passing tensors with different shapes, (3) passing Python objects instead of tensors. For (1), please define your @tf.function outside of the loop. For (2), @tf.function has reduce_retracing=True option that can avoid unnecessary retracing. For (3), please refer to https://www.tensorflow.org/guide/function#controlling_retracing and https://www.tensorflow.org/api_docs/python/tf/function for  more details.\n",
      "WARNING:tensorflow:6 out of the last 12 calls to <function TensorFlowTrainer.make_predict_function.<locals>.one_step_on_data_distributed at 0x70480a583d90> triggered tf.function retracing. Tracing is expensive and the excessive number of tracings could be due to (1) creating @tf.function repeatedly in a loop, (2) passing tensors with different shapes, (3) passing Python objects instead of tensors. For (1), please define your @tf.function outside of the loop. For (2), @tf.function has reduce_retracing=True option that can avoid unnecessary retracing. For (3), please refer to https://www.tensorflow.org/guide/function#controlling_retracing and https://www.tensorflow.org/api_docs/python/tf/function for  more details.\n"
     ]
    },
    {
     "name": "stderr",
     "output_type": "stream",
     "text": [
      "/nfs/ghome/live/bbozkurt/.conda/envs/tensorenv/lib/python3.10/site-packages/keras/src/layers/core/dense.py:87: UserWarning: Do not pass an `input_shape`/`input_dim` argument to a layer. When using Sequential models, prefer using an `Input(shape)` object as the first layer in the model instead.\n",
      "  super().__init__(activity_regularizer=activity_regularizer, **kwargs)\n",
      "/nfs/ghome/live/bbozkurt/.conda/envs/tensorenv/lib/python3.10/site-packages/keras/src/layers/core/dense.py:87: UserWarning: Do not pass an `input_shape`/`input_dim` argument to a layer. When using Sequential models, prefer using an `Input(shape)` object as the first layer in the model instead.\n",
      "  super().__init__(activity_regularizer=activity_regularizer, **kwargs)\n",
      "/nfs/ghome/live/bbozkurt/.conda/envs/tensorenv/lib/python3.10/site-packages/keras/src/layers/core/dense.py:87: UserWarning: Do not pass an `input_shape`/`input_dim` argument to a layer. When using Sequential models, prefer using an `Input(shape)` object as the first layer in the model instead.\n",
      "  super().__init__(activity_regularizer=activity_regularizer, **kwargs)\n",
      "/nfs/ghome/live/bbozkurt/.conda/envs/tensorenv/lib/python3.10/site-packages/keras/src/layers/core/dense.py:87: UserWarning: Do not pass an `input_shape`/`input_dim` argument to a layer. When using Sequential models, prefer using an `Input(shape)` object as the first layer in the model instead.\n",
      "  super().__init__(activity_regularizer=activity_regularizer, **kwargs)\n"
     ]
    },
    {
     "name": "stdout",
     "output_type": "stream",
     "text": [
      "PARAMETER SELECTION IS DONE!\n",
      "PARAMETER SELECTION IS DONE!\n"
     ]
    },
    {
     "name": "stderr",
     "output_type": "stream",
     "text": [
      "/nfs/ghome/live/bbozkurt/.conda/envs/tensorenv/lib/python3.10/site-packages/keras/src/layers/core/dense.py:87: UserWarning: Do not pass an `input_shape`/`input_dim` argument to a layer. When using Sequential models, prefer using an `Input(shape)` object as the first layer in the model instead.\n",
      "  super().__init__(activity_regularizer=activity_regularizer, **kwargs)\n",
      "/nfs/ghome/live/bbozkurt/.conda/envs/tensorenv/lib/python3.10/site-packages/keras/src/layers/core/dense.py:87: UserWarning: Do not pass an `input_shape`/`input_dim` argument to a layer. When using Sequential models, prefer using an `Input(shape)` object as the first layer in the model instead.\n",
      "  super().__init__(activity_regularizer=activity_regularizer, **kwargs)\n"
     ]
    },
    {
     "name": "stdout",
     "output_type": "stream",
     "text": [
      "\u001b[1m20/20\u001b[0m \u001b[32m━━━━━━━━━━━━━━━━━━━━\u001b[0m\u001b[37m\u001b[0m \u001b[1m1s\u001b[0m 14ms/step\n",
      "\u001b[1m20/20\u001b[0m \u001b[32m━━━━━━━━━━━━━━━━━━━━\u001b[0m\u001b[37m\u001b[0m \u001b[1m0s\u001b[0m 3ms/step \n"
     ]
    },
    {
     "name": "stderr",
     "output_type": "stream",
     "text": [
      "Item size 20:  33%|███▎      | 1/3 [04:33<09:07, 273.66s/it]/nfs/ghome/live/bbozkurt/.conda/envs/tensorenv/lib/python3.10/site-packages/keras/src/layers/core/dense.py:87: UserWarning: Do not pass an `input_shape`/`input_dim` argument to a layer. When using Sequential models, prefer using an `Input(shape)` object as the first layer in the model instead.\n",
      "  super().__init__(activity_regularizer=activity_regularizer, **kwargs)\n",
      "/nfs/ghome/live/bbozkurt/.conda/envs/tensorenv/lib/python3.10/site-packages/keras/src/layers/core/dense.py:87: UserWarning: Do not pass an `input_shape`/`input_dim` argument to a layer. When using Sequential models, prefer using an `Input(shape)` object as the first layer in the model instead.\n",
      "  super().__init__(activity_regularizer=activity_regularizer, **kwargs)\n",
      "/nfs/ghome/live/bbozkurt/.conda/envs/tensorenv/lib/python3.10/site-packages/keras/src/layers/core/dense.py:87: UserWarning: Do not pass an `input_shape`/`input_dim` argument to a layer. When using Sequential models, prefer using an `Input(shape)` object as the first layer in the model instead.\n",
      "  super().__init__(activity_regularizer=activity_regularizer, **kwargs)\n",
      "/nfs/ghome/live/bbozkurt/.conda/envs/tensorenv/lib/python3.10/site-packages/keras/src/layers/core/dense.py:87: UserWarning: Do not pass an `input_shape`/`input_dim` argument to a layer. When using Sequential models, prefer using an `Input(shape)` object as the first layer in the model instead.\n",
      "  super().__init__(activity_regularizer=activity_regularizer, **kwargs)\n",
      "/nfs/ghome/live/bbozkurt/.conda/envs/tensorenv/lib/python3.10/site-packages/keras/src/layers/core/dense.py:87: UserWarning: Do not pass an `input_shape`/`input_dim` argument to a layer. When using Sequential models, prefer using an `Input(shape)` object as the first layer in the model instead.\n",
      "  super().__init__(activity_regularizer=activity_regularizer, **kwargs)\n"
     ]
    },
    {
     "name": "stdout",
     "output_type": "stream",
     "text": [
      "PARAMETER SELECTION IS DONE!\n",
      "PARAMETER SELECTION IS DONE!\n"
     ]
    },
    {
     "name": "stderr",
     "output_type": "stream",
     "text": [
      "/nfs/ghome/live/bbozkurt/.conda/envs/tensorenv/lib/python3.10/site-packages/keras/src/layers/core/dense.py:87: UserWarning: Do not pass an `input_shape`/`input_dim` argument to a layer. When using Sequential models, prefer using an `Input(shape)` object as the first layer in the model instead.\n",
      "  super().__init__(activity_regularizer=activity_regularizer, **kwargs)\n",
      "/nfs/ghome/live/bbozkurt/.conda/envs/tensorenv/lib/python3.10/site-packages/keras/src/layers/core/dense.py:87: UserWarning: Do not pass an `input_shape`/`input_dim` argument to a layer. When using Sequential models, prefer using an `Input(shape)` object as the first layer in the model instead.\n",
      "  super().__init__(activity_regularizer=activity_regularizer, **kwargs)\n"
     ]
    },
    {
     "name": "stdout",
     "output_type": "stream",
     "text": [
      "\u001b[1m20/20\u001b[0m \u001b[32m━━━━━━━━━━━━━━━━━━━━\u001b[0m\u001b[37m\u001b[0m \u001b[1m1s\u001b[0m 16ms/step\n",
      "\u001b[1m20/20\u001b[0m \u001b[32m━━━━━━━━━━━━━━━━━━━━\u001b[0m\u001b[37m\u001b[0m \u001b[1m0s\u001b[0m 3ms/step \n"
     ]
    },
    {
     "name": "stderr",
     "output_type": "stream",
     "text": [
      "Item size 20:  67%|██████▋   | 2/3 [09:07<04:33, 273.65s/it]/nfs/ghome/live/bbozkurt/.conda/envs/tensorenv/lib/python3.10/site-packages/keras/src/layers/core/dense.py:87: UserWarning: Do not pass an `input_shape`/`input_dim` argument to a layer. When using Sequential models, prefer using an `Input(shape)` object as the first layer in the model instead.\n",
      "  super().__init__(activity_regularizer=activity_regularizer, **kwargs)\n",
      "/nfs/ghome/live/bbozkurt/.conda/envs/tensorenv/lib/python3.10/site-packages/keras/src/layers/core/dense.py:87: UserWarning: Do not pass an `input_shape`/`input_dim` argument to a layer. When using Sequential models, prefer using an `Input(shape)` object as the first layer in the model instead.\n",
      "  super().__init__(activity_regularizer=activity_regularizer, **kwargs)\n",
      "/nfs/ghome/live/bbozkurt/.conda/envs/tensorenv/lib/python3.10/site-packages/keras/src/layers/core/dense.py:87: UserWarning: Do not pass an `input_shape`/`input_dim` argument to a layer. When using Sequential models, prefer using an `Input(shape)` object as the first layer in the model instead.\n",
      "  super().__init__(activity_regularizer=activity_regularizer, **kwargs)\n",
      "/nfs/ghome/live/bbozkurt/.conda/envs/tensorenv/lib/python3.10/site-packages/keras/src/layers/core/dense.py:87: UserWarning: Do not pass an `input_shape`/`input_dim` argument to a layer. When using Sequential models, prefer using an `Input(shape)` object as the first layer in the model instead.\n",
      "  super().__init__(activity_regularizer=activity_regularizer, **kwargs)\n",
      "/nfs/ghome/live/bbozkurt/.conda/envs/tensorenv/lib/python3.10/site-packages/keras/src/layers/core/dense.py:87: UserWarning: Do not pass an `input_shape`/`input_dim` argument to a layer. When using Sequential models, prefer using an `Input(shape)` object as the first layer in the model instead.\n",
      "  super().__init__(activity_regularizer=activity_regularizer, **kwargs)\n"
     ]
    },
    {
     "name": "stdout",
     "output_type": "stream",
     "text": [
      "PARAMETER SELECTION IS DONE!\n",
      "PARAMETER SELECTION IS DONE!\n"
     ]
    },
    {
     "name": "stderr",
     "output_type": "stream",
     "text": [
      "/nfs/ghome/live/bbozkurt/.conda/envs/tensorenv/lib/python3.10/site-packages/keras/src/layers/core/dense.py:87: UserWarning: Do not pass an `input_shape`/`input_dim` argument to a layer. When using Sequential models, prefer using an `Input(shape)` object as the first layer in the model instead.\n",
      "  super().__init__(activity_regularizer=activity_regularizer, **kwargs)\n",
      "/nfs/ghome/live/bbozkurt/.conda/envs/tensorenv/lib/python3.10/site-packages/keras/src/layers/core/dense.py:87: UserWarning: Do not pass an `input_shape`/`input_dim` argument to a layer. When using Sequential models, prefer using an `Input(shape)` object as the first layer in the model instead.\n",
      "  super().__init__(activity_regularizer=activity_regularizer, **kwargs)\n"
     ]
    },
    {
     "name": "stdout",
     "output_type": "stream",
     "text": [
      "\u001b[1m20/20\u001b[0m \u001b[32m━━━━━━━━━━━━━━━━━━━━\u001b[0m\u001b[37m\u001b[0m \u001b[1m0s\u001b[0m 13ms/step\n",
      "\u001b[1m20/20\u001b[0m \u001b[32m━━━━━━━━━━━━━━━━━━━━\u001b[0m\u001b[37m\u001b[0m \u001b[1m0s\u001b[0m 2ms/step \n"
     ]
    },
    {
     "name": "stderr",
     "output_type": "stream",
     "text": [
      "Item size 20: 100%|██████████| 3/3 [13:37<00:00, 272.58s/it]"
     ]
    },
    {
     "name": "stdout",
     "output_type": "stream",
     "text": [
      "[Parallel(n_jobs=-1)]: Using backend LokyBackend with 2 concurrent workers.\n"
     ]
    },
    {
     "name": "stderr",
     "output_type": "stream",
     "text": [
      "\n",
      "2025-05-19 10:39:35.784952: E external/local_xla/xla/stream_executor/cuda/cuda_fft.cc:467] Unable to register cuFFT factory: Attempting to register factory for plugin cuFFT when one has already been registered\n",
      "2025-05-19 10:39:35.785103: E external/local_xla/xla/stream_executor/cuda/cuda_fft.cc:467] Unable to register cuFFT factory: Attempting to register factory for plugin cuFFT when one has already been registered\n",
      "WARNING: All log messages before absl::InitializeLog() is called are written to STDERR\n",
      "WARNING: All log messages before absl::InitializeLog() is called are written to STDERR\n",
      "E0000 00:00:1747651175.829850 2605716 cuda_dnn.cc:8579] Unable to register cuDNN factory: Attempting to register factory for plugin cuDNN when one has already been registered\n",
      "E0000 00:00:1747651175.829693 2605715 cuda_dnn.cc:8579] Unable to register cuDNN factory: Attempting to register factory for plugin cuDNN when one has already been registered\n",
      "E0000 00:00:1747651175.843718 2605715 cuda_blas.cc:1407] Unable to register cuBLAS factory: Attempting to register factory for plugin cuBLAS when one has already been registered\n",
      "E0000 00:00:1747651175.843850 2605716 cuda_blas.cc:1407] Unable to register cuBLAS factory: Attempting to register factory for plugin cuBLAS when one has already been registered\n",
      "W0000 00:00:1747651175.878560 2605716 computation_placer.cc:177] computation placer already registered. Please check linkage and avoid linking the same target more than once.\n",
      "W0000 00:00:1747651175.878561 2605715 computation_placer.cc:177] computation placer already registered. Please check linkage and avoid linking the same target more than once.\n",
      "W0000 00:00:1747651175.878592 2605715 computation_placer.cc:177] computation placer already registered. Please check linkage and avoid linking the same target more than once.\n",
      "W0000 00:00:1747651175.878598 2605715 computation_placer.cc:177] computation placer already registered. Please check linkage and avoid linking the same target more than once.\n",
      "W0000 00:00:1747651175.878602 2605715 computation_placer.cc:177] computation placer already registered. Please check linkage and avoid linking the same target more than once.\n",
      "W0000 00:00:1747651175.878720 2605716 computation_placer.cc:177] computation placer already registered. Please check linkage and avoid linking the same target more than once.\n",
      "W0000 00:00:1747651175.878783 2605716 computation_placer.cc:177] computation placer already registered. Please check linkage and avoid linking the same target more than once.\n",
      "W0000 00:00:1747651175.878859 2605716 computation_placer.cc:177] computation placer already registered. Please check linkage and avoid linking the same target more than once.\n",
      "2025-05-19 10:39:35.888621: I tensorflow/core/platform/cpu_feature_guard.cc:210] This TensorFlow binary is optimized to use available CPU instructions in performance-critical operations.\n",
      "To enable the following instructions: AVX2 FMA, in other operations, rebuild TensorFlow with the appropriate compiler flags.\n",
      "2025-05-19 10:39:35.888621: I tensorflow/core/platform/cpu_feature_guard.cc:210] This TensorFlow binary is optimized to use available CPU instructions in performance-critical operations.\n",
      "To enable the following instructions: AVX2 FMA, in other operations, rebuild TensorFlow with the appropriate compiler flags.\n"
     ]
    },
    {
     "name": "stdout",
     "output_type": "stream",
     "text": [
      "[Parallel(n_jobs=-1)]: Done   1 tasks      | elapsed: 150.0min\n",
      "[Parallel(n_jobs=-1)]: Done   2 tasks      | elapsed: 150.8min\n"
     ]
    }
   ],
   "source": [
    "import sys\n",
    "sys.path.append(\"..\")\n",
    "\n",
    "import numpy as np\n",
    "import pandas as pd\n",
    "# import matplotlib.pyplot as plt\n",
    "# import seaborn as sns\n",
    "from tqdm import tqdm\n",
    "from sklearn.metrics.pairwise import rbf_kernel\n",
    "# from scipy.spatial.distance import pdist\n",
    "from Environment import AvgEnvironment\n",
    "from Policy import MultinomialPolicy\n",
    "from ParameterSelector import ParameterSelector\n",
    "from Estimator_CPME import *\n",
    "# import joblib\n",
    "import os\n",
    "\n",
    "import tensorflow as tf\n",
    "print(tf.config.list_physical_devices('GPU'))\n",
    "\n",
    "config = {\n",
    "    \"n_users\": 50,\n",
    "    # \"n_items\": 20,\n",
    "    \"context_dim\": 10,\n",
    "    \"n_reco\": 5,\n",
    "    \"n_observation\": 5000,\n",
    "}\n",
    "\n",
    "num_iter = 3\n",
    "# observation_sizes = [100, 1000, 5000]\n",
    "num_items_list = [20, 50, 80]\n",
    "\n",
    "def simulate_item_size(n_item, config, num_iter):\n",
    "    config['n_items'] = n_item\n",
    "    obs_size = config['n_observation']\n",
    "    results = []\n",
    "\n",
    "    # === Generate environment ===\n",
    "    user_vectors = np.random.normal(0, 1, size=(config[\"n_users\"], config[\"context_dim\"]))\n",
    "    target_user_vectors = user_vectors * np.random.binomial(1, 0.5, size=user_vectors.shape)\n",
    "    item_vectors = np.random.normal(0, 1, size=(config[\"n_items\"], config[\"context_dim\"]))\n",
    "\n",
    "    alpha = -0.3\n",
    "    logging_user_vectors = alpha * target_user_vectors\n",
    "\n",
    "    logging_policy = MultinomialPolicy(item_vectors, logging_user_vectors, config[\"n_items\"], config[\"n_reco\"], temperature=0.5, cal_gamma=True)\n",
    "    target_policy = MultinomialPolicy(item_vectors, target_user_vectors, config[\"n_items\"], config[\"n_reco\"], temperature=1.0, cal_gamma=False)\n",
    "    environment = AvgEnvironment(item_vectors, user_vectors)\n",
    "\n",
    "    seeds = np.random.randint(np.iinfo(np.int32).max, size=num_iter)\n",
    "\n",
    "    for seed in tqdm(seeds, desc=f\"Item size {n_item}\"):\n",
    "        np.random.seed(seed)\n",
    "\n",
    "        # === Generate simulation data ===\n",
    "        sim_data = []\n",
    "        for _ in range(obs_size):\n",
    "            user = environment.get_context()\n",
    "\n",
    "            logging_reco, logging_multinomial, logging_user_vector = logging_policy.recommend(user)\n",
    "            target_reco, target_multinomial, _ = target_policy.recommend(user)\n",
    "\n",
    "            sim_data.append({\n",
    "                \"null_context_vec\": logging_user_vector,\n",
    "                \"target_context_vec\": logging_user_vector,\n",
    "                \"null_reco\": tuple(logging_reco),\n",
    "                \"null_reco_vec\": np.concatenate(item_vectors[logging_reco]),\n",
    "                \"null_reward\": environment.get_reward(user, logging_reco),\n",
    "                \"target_reco\": tuple(target_reco),\n",
    "                \"target_multinomial\": target_multinomial,\n",
    "                \"target_reco_vec\": np.concatenate(item_vectors[target_reco]),\n",
    "                \"target_reward\": environment.get_reward(user, target_reco),\n",
    "                \"null_multinomial\": logging_multinomial,\n",
    "                \"user\": user,\n",
    "            })\n",
    "\n",
    "        sim_data = pd.DataFrame(sim_data)\n",
    "\n",
    "        # === Prepare estimators ===\n",
    "        # behavior_estimator = BehaviorPolicyEstimator(config[\"n_items\"])\n",
    "        # user_features = np.vstack(sim_data[\"null_context_vec\"].values)\n",
    "        # actions = [r[0] for r in sim_data[\"null_reco\"].values]  # Taking first item as action\n",
    "\n",
    "        # behavior_estimator.fit(user_features, actions)\n",
    "\n",
    "        estimators = [\n",
    "            IPSEstimator(logging_policy, target_policy, null_propensity_known = True),\n",
    "            DirectEstimator(),\n",
    "            DoublyRobustEstimator(logging_policy, target_policy, null_propensity_known = True),\n",
    "            # CMEstimator(rbf_kernel, rbf_kernel, params=[5e-5, 1.0, 1.0]),\n",
    "            # DRCMEstimator(rbf_kernel, rbf_kernel, [1e-3, 1.0, 1.0], logging_policy, target_policy), \n",
    "            CMEbis(rbf_kernel, rbf_kernel, params=[5e-5, 1.0, 1.0]),\n",
    "            DoublyRobustbis(rbf_kernel, rbf_kernel, [5e-5, 1.0, 1.0], logging_policy, target_policy, null_propensity_known = True)\n",
    "        ]\n",
    "\n",
    "        # parameter selection\n",
    "        direct_selector = ParameterSelector(estimators[1])  # direct estimator\n",
    "        params_grid = [(n_hiddens, 1024, 100) for n_hiddens in [50, 100, 150, 200]]\n",
    "        direct_selector.select_from_propensity(sim_data, params_grid, logging_policy, target_policy)\n",
    "        estimators[1] = direct_selector.estimator\n",
    "        \n",
    "        estimators[2].params = direct_selector.parameters  # doubly robust estimator\n",
    "        \n",
    "        cme_selector = ParameterSelector(estimators[3])  # cme estimator\n",
    "        # params_grid = [[(10.0 ** p) / config['n_observation'], 1.0, 1.0] for p in np.arange(-7, 0, 1)]\n",
    "        params_grid = [[(10.0 ** p), 1.0, 1.0] for p in np.arange(-8, -1, 1)]\n",
    "        cme_selector.select_from_propensity(sim_data, params_grid, logging_policy, target_policy)\n",
    "        estimators[3] = cme_selector.estimator\n",
    "        \n",
    "        estimators[4].params = estimators[3]._params\n",
    "        # === Prepare features for reward estimators ===\n",
    "        logging_context_vec = np.vstack(sim_data[\"null_context_vec\"].dropna().values)\n",
    "        logging_reco_vec = np.vstack(sim_data[\"null_reco_vec\"].dropna().values)\n",
    "        logging_reward = sim_data[\"null_reward\"].dropna().values\n",
    "\n",
    "        X_logging = np.hstack([logging_context_vec, logging_reco_vec])\n",
    "\n",
    "        # === Train reward models where needed ===\n",
    "        for estimator in estimators:\n",
    "            if isinstance(estimator, DirectEstimator):\n",
    "                estimator.fit(X_logging, logging_reward, n_hidden_units=estimator.params[0], batch_size=1024, epochs=100)\n",
    "            if isinstance(estimator, DoublyRobustEstimator):\n",
    "                estimator.fit(X_logging, logging_reward)\n",
    "\n",
    "        # === Calculate results ===\n",
    "        actual_value = np.mean(sim_data[\"target_reward\"])\n",
    "\n",
    "        for estimator in estimators:\n",
    "            est_value = estimator.estimate(sim_data)\n",
    "            mse = (est_value - actual_value) ** 2\n",
    "            results.append({\n",
    "                \"Estimator\": estimator.name,\n",
    "                \"MSE\": mse,\n",
    "                \"n_item\": n_item\n",
    "            })\n",
    "\n",
    "    return pd.DataFrame(results)\n",
    "\n",
    "\n",
    "# Running the simulation\n",
    "full_results = pd.concat(\n",
    "    [simulate_item_size(n, config, num_iter) for n in num_items_list]\n",
    ")\n",
    "\n",
    "# full_results = joblib.Parallel(n_jobs=-1, verbose=0)(\n",
    "#             joblib.delayed(simulate_item_size)(n, config, num_iter) for n in observation_sizes\n",
    "#         )\n",
    "\n",
    "# Save results"
   ]
  },
  {
   "cell_type": "code",
   "execution_count": null,
   "id": "ffcd99cc-9b0b-4260-ae85-1ad37a133104",
   "metadata": {},
   "outputs": [],
   "source": [
    "5"
   ]
  },
  {
   "cell_type": "code",
   "execution_count": null,
   "id": "1379b572-6a1e-4272-9869-231e1ae30b96",
   "metadata": {},
   "outputs": [],
   "source": []
  },
  {
   "cell_type": "code",
   "execution_count": null,
   "id": "33cf502e-e64d-4edc-bc96-9bbbf977d0e8",
   "metadata": {},
   "outputs": [],
   "source": []
  },
  {
   "cell_type": "code",
   "execution_count": null,
   "id": "8f2302f5-9ee8-42e1-a79f-86ff046d321b",
   "metadata": {},
   "outputs": [],
   "source": []
  },
  {
   "cell_type": "code",
   "execution_count": 1,
   "id": "a2a03632-719c-4e2a-b07d-1ee223a95823",
   "metadata": {},
   "outputs": [
    {
     "name": "stderr",
     "output_type": "stream",
     "text": [
      "2025-05-14 16:02:09.780892: E external/local_xla/xla/stream_executor/cuda/cuda_fft.cc:467] Unable to register cuFFT factory: Attempting to register factory for plugin cuFFT when one has already been registered\n",
      "WARNING: All log messages before absl::InitializeLog() is called are written to STDERR\n",
      "E0000 00:00:1747234929.801315 3735590 cuda_dnn.cc:8579] Unable to register cuDNN factory: Attempting to register factory for plugin cuDNN when one has already been registered\n",
      "E0000 00:00:1747234929.807692 3735590 cuda_blas.cc:1407] Unable to register cuBLAS factory: Attempting to register factory for plugin cuBLAS when one has already been registered\n",
      "W0000 00:00:1747234929.822971 3735590 computation_placer.cc:177] computation placer already registered. Please check linkage and avoid linking the same target more than once.\n",
      "W0000 00:00:1747234929.822989 3735590 computation_placer.cc:177] computation placer already registered. Please check linkage and avoid linking the same target more than once.\n",
      "W0000 00:00:1747234929.822991 3735590 computation_placer.cc:177] computation placer already registered. Please check linkage and avoid linking the same target more than once.\n",
      "W0000 00:00:1747234929.822993 3735590 computation_placer.cc:177] computation placer already registered. Please check linkage and avoid linking the same target more than once.\n",
      "2025-05-14 16:02:09.828162: I tensorflow/core/platform/cpu_feature_guard.cc:210] This TensorFlow binary is optimized to use available CPU instructions in performance-critical operations.\n",
      "To enable the following instructions: AVX2 FMA, in other operations, rebuild TensorFlow with the appropriate compiler flags.\n"
     ]
    }
   ],
   "source": [
    "import warnings\n",
    "warnings.filterwarnings(\"ignore\")\n",
    "\n",
    "from Environment import *\n",
    "from Estimator import SlateEstimator\n",
    "from Estimator_CPME import (\n",
    "    DirectEstimator,\n",
    "    IPSEstimator,\n",
    "    CMEbis,\n",
    "    DoublyRobustEstimator,\n",
    "    DoublyRobustbis,\n",
    "    BehaviorPolicyEstimator\n",
    ")\n",
    "from Policy import *\n",
    "from ParameterSelector import ParameterSelectorWithBehaviorEstimator\n",
    "import numpy as np\n",
    "import pandas as pd\n",
    "from sklearn.metrics.pairwise import rbf_kernel, linear_kernel\n",
    "from tqdm import tqdm\n",
    "# import matplotlib.pyplot as plt\n",
    "import joblib\n",
    "import os\n",
    "import sys\n",
    "\n",
    "if not os.path.exists(\"results\"):\n",
    "    os.mkdir(\"results\")\n",
    "\n",
    "os.environ[\"CUDA_VISIBLE_DEVICES\"] = \"\"\n",
    "\n",
    "def simulate_data(null_policy, target_policy, environment, item_vectors):\n",
    "    \"\"\"\n",
    "    simulate data given policy, environment and set of context\n",
    "    :return: observations\n",
    "    \"\"\"\n",
    "    user = environment.get_context()\n",
    "    null_reco, null_multinomial, null_user_vector = null_policy.recommend(user)\n",
    "    # recommendation is represented by a concatenation of recommended item vectors\n",
    "    # null_reco_vec = np.mean(item_vectors[null_reco], axis=0)\n",
    "    null_reco_vec = np.concatenate(item_vectors[null_reco])\n",
    "    null_reward = environment.get_reward(user, null_reco)\n",
    "\n",
    "    target_reco, target_multinomial, _ = target_policy.recommend(user)\n",
    "    # recommendation is represented by a concatenation of recommended item vectors\n",
    "    # target_reco_vec = np.mean(item_vectors[target_reco], axis=0)\n",
    "    target_reco_vec = np.concatenate(item_vectors[target_reco])\n",
    "    target_reward = environment.get_reward(user, target_reco)\n",
    "\n",
    "    observation = {\"null_context_vec\": null_user_vector, \"target_context_vec\": null_user_vector,\n",
    "                   \"null_reco\": tuple(null_reco),\n",
    "                   \"null_reco_vec\": null_reco_vec, \"null_reward\": null_reward,\n",
    "                   \"target_reco\": tuple(target_reco), \"null_multinomial\": null_multinomial,\n",
    "                   \"target_multinomial\": target_multinomial, \"target_reco_vec\": target_reco_vec,\n",
    "                   \"target_reward\": target_reward, \"user\": user}\n",
    "\n",
    "    return observation\n",
    "\n",
    "# new_data = pd.concat([pd.DataFrame({'null_reward': data.null_reward.iloc[train],\n",
    "#                                                     'null_context_vec': data.null_context_vec.iloc[train],\n",
    "#                                                     'null_reco_vec': data.null_reco_vec.iloc[train],\n",
    "#                                                     'null_reco': data.null_reco.iloc[train],\n",
    "#                                                     'null_multinomial': data.null_multinomial.iloc[train]}),\n",
    "#                                       pd.DataFrame({'target_context_vec': data.null_context_vec.iloc[test],\n",
    "#                                                     'target_reco_vec': data.null_reco_vec.iloc[test],\n",
    "#                                                     'target_reco': data.null_reco.iloc[test],\n",
    "#                                                     'target_multinomial': data.target_multinomial.iloc[test]})],\n",
    "#                                      axis=1)\n",
    "\n",
    "def get_actual_reward(target_policy, environment, n=100000):\n",
    "    sum_reward = 0\n",
    "    for i in range(n):\n",
    "        user = environment.get_context()\n",
    "        target_reco, target_multinomial, _ = target_policy.recommend(user)\n",
    "        sum_reward += environment.get_reward(user, target_reco)\n",
    "\n",
    "    return sum_reward / float(n)\n",
    "\n",
    "def grid_search(params, estimator, sim_data, n_iterations):\n",
    "    \"\"\"\n",
    "    :param params:\n",
    "    :param estimator:\n",
    "    :param sim_data:\n",
    "    :param n_iterations:\n",
    "    :return:\n",
    "    \"\"\"\n",
    "    actual_value = sim_data.target_reward.mean()\n",
    "    return_df = pd.DataFrame(columns=['param', 'estimated_value', 'actual_value', 'error'])\n",
    "    for param in params:\n",
    "        estimated_values = []\n",
    "        for _ in range(n_iterations):\n",
    "            estimator.params = param\n",
    "            estimated_values.append(estimator.estimate(sim_data))\n",
    "        mean_value = np.array(estimated_values).mean()\n",
    "        ret = {'param': param, 'estimated_value': mean_value, 'actual_value': actual_value,\n",
    "               'error': np.abs(mean_value - actual_value),\n",
    "               'percent_error': 100.0 * np.abs(mean_value - actual_value) / actual_value}\n",
    "        return_df = return_df.append(ret, ignore_index=True)\n",
    "\n",
    "    return return_df"
   ]
  },
  {
   "cell_type": "code",
   "execution_count": 2,
   "id": "4f54f514-b7fa-4004-9ca4-08f1ec251377",
   "metadata": {
    "scrolled": true
   },
   "outputs": [
    {
     "name": "stdout",
     "output_type": "stream",
     "text": [
      "[Parallel(n_jobs=-1)]: Using backend LokyBackend with 24 concurrent workers.\n"
     ]
    },
    {
     "name": "stderr",
     "output_type": "stream",
     "text": [
      "2025-05-14 16:02:18.335525: E external/local_xla/xla/stream_executor/cuda/cuda_fft.cc:467] Unable to register cuFFT factory: Attempting to register factory for plugin cuFFT when one has already been registered\n",
      "2025-05-14 16:02:18.346928: E external/local_xla/xla/stream_executor/cuda/cuda_fft.cc:467] Unable to register cuFFT factory: Attempting to register factory for plugin cuFFT when one has already been registered\n",
      "2025-05-14 16:02:18.357712: E external/local_xla/xla/stream_executor/cuda/cuda_fft.cc:467] Unable to register cuFFT factory: Attempting to register factory for plugin cuFFT when one has already been registered\n",
      "2025-05-14 16:02:18.359360: E external/local_xla/xla/stream_executor/cuda/cuda_fft.cc:467] Unable to register cuFFT factory: Attempting to register factory for plugin cuFFT when one has already been registered\n",
      "2025-05-14 16:02:18.369405: E external/local_xla/xla/stream_executor/cuda/cuda_fft.cc:467] Unable to register cuFFT factory: Attempting to register factory for plugin cuFFT when one has already been registered\n",
      "WARNING: All log messages before absl::InitializeLog() is called are written to STDERR\n",
      "E0000 00:00:1747234938.374396 3735665 cuda_dnn.cc:8579] Unable to register cuDNN factory: Attempting to register factory for plugin cuDNN when one has already been registered\n",
      "2025-05-14 16:02:18.384184: E external/local_xla/xla/stream_executor/cuda/cuda_fft.cc:467] Unable to register cuFFT factory: Attempting to register factory for plugin cuFFT when one has already been registered\n",
      "2025-05-14 16:02:18.384407: E external/local_xla/xla/stream_executor/cuda/cuda_fft.cc:467] Unable to register cuFFT factory: Attempting to register factory for plugin cuFFT when one has already been registered\n",
      "E0000 00:00:1747234938.387407 3735665 cuda_blas.cc:1407] Unable to register cuBLAS factory: Attempting to register factory for plugin cuBLAS when one has already been registered\n",
      "WARNING: All log messages before absl::InitializeLog() is called are written to STDERR\n",
      "E0000 00:00:1747234938.388189 3735668 cuda_dnn.cc:8579] Unable to register cuDNN factory: Attempting to register factory for plugin cuDNN when one has already been registered\n",
      "WARNING: All log messages before absl::InitializeLog() is called are written to STDERR\n",
      "E0000 00:00:1747234938.400009 3735672 cuda_dnn.cc:8579] Unable to register cuDNN factory: Attempting to register factory for plugin cuDNN when one has already been registered\n",
      "E0000 00:00:1747234938.400551 3735668 cuda_blas.cc:1407] Unable to register cuBLAS factory: Attempting to register factory for plugin cuBLAS when one has already been registered\n",
      "WARNING: All log messages before absl::InitializeLog() is called are written to STDERR\n",
      "E0000 00:00:1747234938.400681 3735671 cuda_dnn.cc:8579] Unable to register cuDNN factory: Attempting to register factory for plugin cuDNN when one has already been registered\n",
      "2025-05-14 16:02:18.403284: E external/local_xla/xla/stream_executor/cuda/cuda_fft.cc:467] Unable to register cuFFT factory: Attempting to register factory for plugin cuFFT when one has already been registered\n",
      "2025-05-14 16:02:18.405324: E external/local_xla/xla/stream_executor/cuda/cuda_fft.cc:467] Unable to register cuFFT factory: Attempting to register factory for plugin cuFFT when one has already been registered\n",
      "WARNING: All log messages before absl::InitializeLog() is called are written to STDERR\n",
      "E0000 00:00:1747234938.410621 3735669 cuda_dnn.cc:8579] Unable to register cuDNN factory: Attempting to register factory for plugin cuDNN when one has already been registered\n",
      "E0000 00:00:1747234938.412584 3735672 cuda_blas.cc:1407] Unable to register cuBLAS factory: Attempting to register factory for plugin cuBLAS when one has already been registered\n",
      "E0000 00:00:1747234938.413435 3735671 cuda_blas.cc:1407] Unable to register cuBLAS factory: Attempting to register factory for plugin cuBLAS when one has already been registered\n",
      "W0000 00:00:1747234938.417858 3735665 computation_placer.cc:177] computation placer already registered. Please check linkage and avoid linking the same target more than once.\n",
      "W0000 00:00:1747234938.418027 3735665 computation_placer.cc:177] computation placer already registered. Please check linkage and avoid linking the same target more than once.\n",
      "W0000 00:00:1747234938.418080 3735665 computation_placer.cc:177] computation placer already registered. Please check linkage and avoid linking the same target more than once.\n",
      "W0000 00:00:1747234938.418124 3735665 computation_placer.cc:177] computation placer already registered. Please check linkage and avoid linking the same target more than once.\n",
      "E0000 00:00:1747234938.423038 3735669 cuda_blas.cc:1407] Unable to register cuBLAS factory: Attempting to register factory for plugin cuBLAS when one has already been registered\n",
      "WARNING: All log messages before absl::InitializeLog() is called are written to STDERR\n",
      "E0000 00:00:1747234938.425758 3735673 cuda_dnn.cc:8579] Unable to register cuDNN factory: Attempting to register factory for plugin cuDNN when one has already been registered\n",
      "WARNING: All log messages before absl::InitializeLog() is called are written to STDERR\n",
      "E0000 00:00:1747234938.426624 3735676 cuda_dnn.cc:8579] Unable to register cuDNN factory: Attempting to register factory for plugin cuDNN when one has already been registered\n",
      "W0000 00:00:1747234938.430677 3735668 computation_placer.cc:177] computation placer already registered. Please check linkage and avoid linking the same target more than once.\n",
      "W0000 00:00:1747234938.430825 3735668 computation_placer.cc:177] computation placer already registered. Please check linkage and avoid linking the same target more than once.\n",
      "W0000 00:00:1747234938.430879 3735668 computation_placer.cc:177] computation placer already registered. Please check linkage and avoid linking the same target more than once.\n",
      "W0000 00:00:1747234938.430926 3735668 computation_placer.cc:177] computation placer already registered. Please check linkage and avoid linking the same target more than once.\n",
      "2025-05-14 16:02:18.437822: E external/local_xla/xla/stream_executor/cuda/cuda_fft.cc:467] Unable to register cuFFT factory: Attempting to register factory for plugin cuFFT when one has already been registered\n",
      "E0000 00:00:1747234938.438318 3735673 cuda_blas.cc:1407] Unable to register cuBLAS factory: Attempting to register factory for plugin cuBLAS when one has already been registered\n",
      "2025-05-14 16:02:18.438535: E external/local_xla/xla/stream_executor/cuda/cuda_fft.cc:467] Unable to register cuFFT factory: Attempting to register factory for plugin cuFFT when one has already been registered\n",
      "2025-05-14 16:02:18.438837: E external/local_xla/xla/stream_executor/cuda/cuda_fft.cc:467] Unable to register cuFFT factory: Attempting to register factory for plugin cuFFT when one has already been registered\n",
      "2025-05-14 16:02:18.439845: E external/local_xla/xla/stream_executor/cuda/cuda_fft.cc:467] Unable to register cuFFT factory: Attempting to register factory for plugin cuFFT when one has already been registered\n",
      "E0000 00:00:1747234938.440306 3735676 cuda_blas.cc:1407] Unable to register cuBLAS factory: Attempting to register factory for plugin cuBLAS when one has already been registered\n",
      "W0000 00:00:1747234938.442459 3735672 computation_placer.cc:177] computation placer already registered. Please check linkage and avoid linking the same target more than once.\n",
      "W0000 00:00:1747234938.442500 3735672 computation_placer.cc:177] computation placer already registered. Please check linkage and avoid linking the same target more than once.\n",
      "W0000 00:00:1747234938.442505 3735672 computation_placer.cc:177] computation placer already registered. Please check linkage and avoid linking the same target more than once.\n",
      "W0000 00:00:1747234938.442508 3735672 computation_placer.cc:177] computation placer already registered. Please check linkage and avoid linking the same target more than once.\n",
      "W0000 00:00:1747234938.443700 3735671 computation_placer.cc:177] computation placer already registered. Please check linkage and avoid linking the same target more than once.\n",
      "W0000 00:00:1747234938.443725 3735671 computation_placer.cc:177] computation placer already registered. Please check linkage and avoid linking the same target more than once.\n",
      "W0000 00:00:1747234938.443729 3735671 computation_placer.cc:177] computation placer already registered. Please check linkage and avoid linking the same target more than once.\n",
      "W0000 00:00:1747234938.443732 3735671 computation_placer.cc:177] computation placer already registered. Please check linkage and avoid linking the same target more than once.\n",
      "WARNING: All log messages before absl::InitializeLog() is called are written to STDERR\n",
      "E0000 00:00:1747234938.447605 3735675 cuda_dnn.cc:8579] Unable to register cuDNN factory: Attempting to register factory for plugin cuDNN when one has already been registered\n",
      "WARNING: All log messages before absl::InitializeLog() is called are written to STDERR\n",
      "E0000 00:00:1747234938.447695 3735679 cuda_dnn.cc:8579] Unable to register cuDNN factory: Attempting to register factory for plugin cuDNN when one has already been registered\n",
      "W0000 00:00:1747234938.455901 3735669 computation_placer.cc:177] computation placer already registered. Please check linkage and avoid linking the same target more than once.\n",
      "W0000 00:00:1747234938.455942 3735669 computation_placer.cc:177] computation placer already registered. Please check linkage and avoid linking the same target more than once.\n",
      "W0000 00:00:1747234938.455947 3735669 computation_placer.cc:177] computation placer already registered. Please check linkage and avoid linking the same target more than once.\n",
      "W0000 00:00:1747234938.455951 3735669 computation_placer.cc:177] computation placer already registered. Please check linkage and avoid linking the same target more than once.\n",
      "E0000 00:00:1747234938.458826 3735675 cuda_blas.cc:1407] Unable to register cuBLAS factory: Attempting to register factory for plugin cuBLAS when one has already been registered\n",
      "E0000 00:00:1747234938.459029 3735679 cuda_blas.cc:1407] Unable to register cuBLAS factory: Attempting to register factory for plugin cuBLAS when one has already been registered\n",
      "W0000 00:00:1747234938.465426 3735673 computation_placer.cc:177] computation placer already registered. Please check linkage and avoid linking the same target more than once.\n",
      "W0000 00:00:1747234938.465471 3735673 computation_placer.cc:177] computation placer already registered. Please check linkage and avoid linking the same target more than once.\n",
      "W0000 00:00:1747234938.465477 3735673 computation_placer.cc:177] computation placer already registered. Please check linkage and avoid linking the same target more than once.\n",
      "W0000 00:00:1747234938.465481 3735673 computation_placer.cc:177] computation placer already registered. Please check linkage and avoid linking the same target more than once.\n",
      "WARNING: All log messages before absl::InitializeLog() is called are written to STDERR\n",
      "E0000 00:00:1747234938.466022 3735685 cuda_dnn.cc:8579] Unable to register cuDNN factory: Attempting to register factory for plugin cuDNN when one has already been registered\n",
      "W0000 00:00:1747234938.469470 3735676 computation_placer.cc:177] computation placer already registered. Please check linkage and avoid linking the same target more than once.\n",
      "W0000 00:00:1747234938.469612 3735676 computation_placer.cc:177] computation placer already registered. Please check linkage and avoid linking the same target more than once.\n",
      "W0000 00:00:1747234938.469624 3735676 computation_placer.cc:177] computation placer already registered. Please check linkage and avoid linking the same target more than once.\n",
      "W0000 00:00:1747234938.469628 3735676 computation_placer.cc:177] computation placer already registered. Please check linkage and avoid linking the same target more than once.\n",
      "2025-05-14 16:02:18.473770: E external/local_xla/xla/stream_executor/cuda/cuda_fft.cc:467] Unable to register cuFFT factory: Attempting to register factory for plugin cuFFT when one has already been registered\n",
      "WARNING: All log messages before absl::InitializeLog() is called are written to STDERR\n",
      "E0000 00:00:1747234938.474663 3735667 cuda_dnn.cc:8579] Unable to register cuDNN factory: Attempting to register factory for plugin cuDNN when one has already been registered\n",
      "E0000 00:00:1747234938.475637 3735685 cuda_blas.cc:1407] Unable to register cuBLAS factory: Attempting to register factory for plugin cuBLAS when one has already been registered\n",
      "2025-05-14 16:02:18.477420: E external/local_xla/xla/stream_executor/cuda/cuda_fft.cc:467] Unable to register cuFFT factory: Attempting to register factory for plugin cuFFT when one has already been registered\n",
      "WARNING: All log messages before absl::InitializeLog() is called are written to STDERR\n",
      "E0000 00:00:1747234938.479596 3735670 cuda_dnn.cc:8579] Unable to register cuDNN factory: Attempting to register factory for plugin cuDNN when one has already been registered\n",
      "WARNING: All log messages before absl::InitializeLog() is called are written to STDERR\n",
      "E0000 00:00:1747234938.480926 3735681 cuda_dnn.cc:8579] Unable to register cuDNN factory: Attempting to register factory for plugin cuDNN when one has already been registered\n",
      "W0000 00:00:1747234938.484103 3735679 computation_placer.cc:177] computation placer already registered. Please check linkage and avoid linking the same target more than once.\n",
      "W0000 00:00:1747234938.484218 3735679 computation_placer.cc:177] computation placer already registered. Please check linkage and avoid linking the same target more than once.\n",
      "W0000 00:00:1747234938.484259 3735679 computation_placer.cc:177] computation placer already registered. Please check linkage and avoid linking the same target more than once.\n",
      "W0000 00:00:1747234938.484236 3735675 computation_placer.cc:177] computation placer already registered. Please check linkage and avoid linking the same target more than once.\n",
      "W0000 00:00:1747234938.484272 3735675 computation_placer.cc:177] computation placer already registered. Please check linkage and avoid linking the same target more than once.\n",
      "W0000 00:00:1747234938.484277 3735675 computation_placer.cc:177] computation placer already registered. Please check linkage and avoid linking the same target more than once.\n",
      "W0000 00:00:1747234938.484280 3735675 computation_placer.cc:177] computation placer already registered. Please check linkage and avoid linking the same target more than once.\n",
      "W0000 00:00:1747234938.484310 3735679 computation_placer.cc:177] computation placer already registered. Please check linkage and avoid linking the same target more than once.\n",
      "E0000 00:00:1747234938.485842 3735667 cuda_blas.cc:1407] Unable to register cuBLAS factory: Attempting to register factory for plugin cuBLAS when one has already been registered\n",
      "2025-05-14 16:02:18.489416: E external/local_xla/xla/stream_executor/cuda/cuda_fft.cc:467] Unable to register cuFFT factory: Attempting to register factory for plugin cuFFT when one has already been registered\n",
      "2025-05-14 16:02:18.489419: E external/local_xla/xla/stream_executor/cuda/cuda_fft.cc:467] Unable to register cuFFT factory: Attempting to register factory for plugin cuFFT when one has already been registered\n",
      "E0000 00:00:1747234938.491849 3735670 cuda_blas.cc:1407] Unable to register cuBLAS factory: Attempting to register factory for plugin cuBLAS when one has already been registered\n",
      "E0000 00:00:1747234938.493049 3735681 cuda_blas.cc:1407] Unable to register cuBLAS factory: Attempting to register factory for plugin cuBLAS when one has already been registered\n",
      "W0000 00:00:1747234938.500096 3735685 computation_placer.cc:177] computation placer already registered. Please check linkage and avoid linking the same target more than once.\n",
      "W0000 00:00:1747234938.500131 3735685 computation_placer.cc:177] computation placer already registered. Please check linkage and avoid linking the same target more than once.\n",
      "W0000 00:00:1747234938.500135 3735685 computation_placer.cc:177] computation placer already registered. Please check linkage and avoid linking the same target more than once.\n",
      "W0000 00:00:1747234938.500140 3735685 computation_placer.cc:177] computation placer already registered. Please check linkage and avoid linking the same target more than once.\n",
      "2025-05-14 16:02:18.509607: E external/local_xla/xla/stream_executor/cuda/cuda_fft.cc:467] Unable to register cuFFT factory: Attempting to register factory for plugin cuFFT when one has already been registered\n",
      "W0000 00:00:1747234938.512582 3735667 computation_placer.cc:177] computation placer already registered. Please check linkage and avoid linking the same target more than once.\n",
      "W0000 00:00:1747234938.512630 3735667 computation_placer.cc:177] computation placer already registered. Please check linkage and avoid linking the same target more than once.\n",
      "W0000 00:00:1747234938.512634 3735667 computation_placer.cc:177] computation placer already registered. Please check linkage and avoid linking the same target more than once.\n",
      "W0000 00:00:1747234938.512637 3735667 computation_placer.cc:177] computation placer already registered. Please check linkage and avoid linking the same target more than once.\n",
      "WARNING: All log messages before absl::InitializeLog() is called are written to STDERR\n",
      "E0000 00:00:1747234938.514503 3735674 cuda_dnn.cc:8579] Unable to register cuDNN factory: Attempting to register factory for plugin cuDNN when one has already been registered\n",
      "WARNING: All log messages before absl::InitializeLog() is called are written to STDERR\n",
      "E0000 00:00:1747234938.515206 3735666 cuda_dnn.cc:8579] Unable to register cuDNN factory: Attempting to register factory for plugin cuDNN when one has already been registered\n",
      "W0000 00:00:1747234938.522130 3735670 computation_placer.cc:177] computation placer already registered. Please check linkage and avoid linking the same target more than once.\n",
      "W0000 00:00:1747234938.522160 3735681 computation_placer.cc:177] computation placer already registered. Please check linkage and avoid linking the same target more than once.\n",
      "W0000 00:00:1747234938.522196 3735681 computation_placer.cc:177] computation placer already registered. Please check linkage and avoid linking the same target more than once.\n",
      "W0000 00:00:1747234938.522201 3735681 computation_placer.cc:177] computation placer already registered. Please check linkage and avoid linking the same target more than once.\n",
      "W0000 00:00:1747234938.522204 3735681 computation_placer.cc:177] computation placer already registered. Please check linkage and avoid linking the same target more than once.\n",
      "W0000 00:00:1747234938.522335 3735670 computation_placer.cc:177] computation placer already registered. Please check linkage and avoid linking the same target more than once.\n",
      "W0000 00:00:1747234938.522388 3735670 computation_placer.cc:177] computation placer already registered. Please check linkage and avoid linking the same target more than once.\n",
      "W0000 00:00:1747234938.522431 3735670 computation_placer.cc:177] computation placer already registered. Please check linkage and avoid linking the same target more than once.\n",
      "E0000 00:00:1747234938.525603 3735674 cuda_blas.cc:1407] Unable to register cuBLAS factory: Attempting to register factory for plugin cuBLAS when one has already been registered\n",
      "E0000 00:00:1747234938.528171 3735666 cuda_blas.cc:1407] Unable to register cuBLAS factory: Attempting to register factory for plugin cuBLAS when one has already been registered\n",
      "WARNING: All log messages before absl::InitializeLog() is called are written to STDERR\n",
      "E0000 00:00:1747234938.528999 3735677 cuda_dnn.cc:8579] Unable to register cuDNN factory: Attempting to register factory for plugin cuDNN when one has already been registered\n",
      "WARNING: All log messages before absl::InitializeLog() is called are written to STDERR\n",
      "E0000 00:00:1747234938.529324 3735683 cuda_dnn.cc:8579] Unable to register cuDNN factory: Attempting to register factory for plugin cuDNN when one has already been registered\n",
      "2025-05-14 16:02:18.532712: E external/local_xla/xla/stream_executor/cuda/cuda_fft.cc:467] Unable to register cuFFT factory: Attempting to register factory for plugin cuFFT when one has already been registered\n",
      "2025-05-14 16:02:18.532753: E external/local_xla/xla/stream_executor/cuda/cuda_fft.cc:467] Unable to register cuFFT factory: Attempting to register factory for plugin cuFFT when one has already been registered\n",
      "E0000 00:00:1747234938.541282 3735677 cuda_blas.cc:1407] Unable to register cuBLAS factory: Attempting to register factory for plugin cuBLAS when one has already been registered\n",
      "E0000 00:00:1747234938.541936 3735683 cuda_blas.cc:1407] Unable to register cuBLAS factory: Attempting to register factory for plugin cuBLAS when one has already been registered\n",
      "2025-05-14 16:02:18.544439: E external/local_xla/xla/stream_executor/cuda/cuda_fft.cc:467] Unable to register cuFFT factory: Attempting to register factory for plugin cuFFT when one has already been registered\n",
      "WARNING: All log messages before absl::InitializeLog() is called are written to STDERR\n",
      "E0000 00:00:1747234938.550108 3735678 cuda_dnn.cc:8579] Unable to register cuDNN factory: Attempting to register factory for plugin cuDNN when one has already been registered\n",
      "W0000 00:00:1747234938.552148 3735666 computation_placer.cc:177] computation placer already registered. Please check linkage and avoid linking the same target more than once.\n",
      "W0000 00:00:1747234938.552186 3735666 computation_placer.cc:177] computation placer already registered. Please check linkage and avoid linking the same target more than once.\n",
      "W0000 00:00:1747234938.552188 3735666 computation_placer.cc:177] computation placer already registered. Please check linkage and avoid linking the same target more than once.\n",
      "W0000 00:00:1747234938.552191 3735666 computation_placer.cc:177] computation placer already registered. Please check linkage and avoid linking the same target more than once.\n",
      "W0000 00:00:1747234938.554385 3735674 computation_placer.cc:177] computation placer already registered. Please check linkage and avoid linking the same target more than once.\n",
      "W0000 00:00:1747234938.554428 3735674 computation_placer.cc:177] computation placer already registered. Please check linkage and avoid linking the same target more than once.\n",
      "W0000 00:00:1747234938.554434 3735674 computation_placer.cc:177] computation placer already registered. Please check linkage and avoid linking the same target more than once.\n",
      "W0000 00:00:1747234938.554437 3735674 computation_placer.cc:177] computation placer already registered. Please check linkage and avoid linking the same target more than once.\n",
      "2025-05-14 16:02:18.560078: E external/local_xla/xla/stream_executor/cuda/cuda_fft.cc:467] Unable to register cuFFT factory: Attempting to register factory for plugin cuFFT when one has already been registered\n",
      "E0000 00:00:1747234938.562335 3735678 cuda_blas.cc:1407] Unable to register cuBLAS factory: Attempting to register factory for plugin cuBLAS when one has already been registered\n",
      "W0000 00:00:1747234938.571645 3735683 computation_placer.cc:177] computation placer already registered. Please check linkage and avoid linking the same target more than once.\n",
      "W0000 00:00:1747234938.571641 3735677 computation_placer.cc:177] computation placer already registered. Please check linkage and avoid linking the same target more than once.\n",
      "W0000 00:00:1747234938.571679 3735677 computation_placer.cc:177] computation placer already registered. Please check linkage and avoid linking the same target more than once.\n",
      "W0000 00:00:1747234938.571683 3735677 computation_placer.cc:177] computation placer already registered. Please check linkage and avoid linking the same target more than once.\n",
      "W0000 00:00:1747234938.571686 3735677 computation_placer.cc:177] computation placer already registered. Please check linkage and avoid linking the same target more than once.\n",
      "W0000 00:00:1747234938.571689 3735683 computation_placer.cc:177] computation placer already registered. Please check linkage and avoid linking the same target more than once.\n",
      "W0000 00:00:1747234938.571693 3735683 computation_placer.cc:177] computation placer already registered. Please check linkage and avoid linking the same target more than once.\n",
      "W0000 00:00:1747234938.571696 3735683 computation_placer.cc:177] computation placer already registered. Please check linkage and avoid linking the same target more than once.\n",
      "WARNING: All log messages before absl::InitializeLog() is called are written to STDERR\n",
      "E0000 00:00:1747234938.573394 3735684 cuda_dnn.cc:8579] Unable to register cuDNN factory: Attempting to register factory for plugin cuDNN when one has already been registered\n",
      "WARNING: All log messages before absl::InitializeLog() is called are written to STDERR\n",
      "E0000 00:00:1747234938.574299 3735687 cuda_dnn.cc:8579] Unable to register cuDNN factory: Attempting to register factory for plugin cuDNN when one has already been registered\n",
      "E0000 00:00:1747234938.582404 3735684 cuda_blas.cc:1407] Unable to register cuBLAS factory: Attempting to register factory for plugin cuBLAS when one has already been registered\n",
      "E0000 00:00:1747234938.584637 3735687 cuda_blas.cc:1407] Unable to register cuBLAS factory: Attempting to register factory for plugin cuBLAS when one has already been registered\n",
      "WARNING: All log messages before absl::InitializeLog() is called are written to STDERR\n",
      "E0000 00:00:1747234938.585716 3735680 cuda_dnn.cc:8579] Unable to register cuDNN factory: Attempting to register factory for plugin cuDNN when one has already been registered\n",
      "W0000 00:00:1747234938.592532 3735678 computation_placer.cc:177] computation placer already registered. Please check linkage and avoid linking the same target more than once.\n",
      "W0000 00:00:1747234938.592572 3735678 computation_placer.cc:177] computation placer already registered. Please check linkage and avoid linking the same target more than once.\n",
      "W0000 00:00:1747234938.592577 3735678 computation_placer.cc:177] computation placer already registered. Please check linkage and avoid linking the same target more than once.\n",
      "W0000 00:00:1747234938.592581 3735678 computation_placer.cc:177] computation placer already registered. Please check linkage and avoid linking the same target more than once.\n",
      "WARNING: All log messages before absl::InitializeLog() is called are written to STDERR\n",
      "E0000 00:00:1747234938.593094 3735682 cuda_dnn.cc:8579] Unable to register cuDNN factory: Attempting to register factory for plugin cuDNN when one has already been registered\n",
      "E0000 00:00:1747234938.598020 3735680 cuda_blas.cc:1407] Unable to register cuBLAS factory: Attempting to register factory for plugin cuBLAS when one has already been registered\n",
      "E0000 00:00:1747234938.602112 3735682 cuda_blas.cc:1407] Unable to register cuBLAS factory: Attempting to register factory for plugin cuBLAS when one has already been registered\n",
      "2025-05-14 16:02:18.607625: E external/local_xla/xla/stream_executor/cuda/cuda_fft.cc:467] Unable to register cuFFT factory: Attempting to register factory for plugin cuFFT when one has already been registered\n",
      "W0000 00:00:1747234938.608476 3735684 computation_placer.cc:177] computation placer already registered. Please check linkage and avoid linking the same target more than once.\n",
      "W0000 00:00:1747234938.608520 3735684 computation_placer.cc:177] computation placer already registered. Please check linkage and avoid linking the same target more than once.\n",
      "W0000 00:00:1747234938.608525 3735684 computation_placer.cc:177] computation placer already registered. Please check linkage and avoid linking the same target more than once.\n",
      "W0000 00:00:1747234938.608529 3735684 computation_placer.cc:177] computation placer already registered. Please check linkage and avoid linking the same target more than once.\n",
      "W0000 00:00:1747234938.608726 3735687 computation_placer.cc:177] computation placer already registered. Please check linkage and avoid linking the same target more than once.\n",
      "W0000 00:00:1747234938.608748 3735687 computation_placer.cc:177] computation placer already registered. Please check linkage and avoid linking the same target more than once.\n",
      "W0000 00:00:1747234938.608751 3735687 computation_placer.cc:177] computation placer already registered. Please check linkage and avoid linking the same target more than once.\n",
      "W0000 00:00:1747234938.608754 3735687 computation_placer.cc:177] computation placer already registered. Please check linkage and avoid linking the same target more than once.\n",
      "W0000 00:00:1747234938.621836 3735680 computation_placer.cc:177] computation placer already registered. Please check linkage and avoid linking the same target more than once.\n",
      "W0000 00:00:1747234938.621870 3735680 computation_placer.cc:177] computation placer already registered. Please check linkage and avoid linking the same target more than once.\n",
      "W0000 00:00:1747234938.621874 3735680 computation_placer.cc:177] computation placer already registered. Please check linkage and avoid linking the same target more than once.\n",
      "W0000 00:00:1747234938.621878 3735680 computation_placer.cc:177] computation placer already registered. Please check linkage and avoid linking the same target more than once.\n",
      "W0000 00:00:1747234938.625828 3735682 computation_placer.cc:177] computation placer already registered. Please check linkage and avoid linking the same target more than once.\n",
      "W0000 00:00:1747234938.625868 3735682 computation_placer.cc:177] computation placer already registered. Please check linkage and avoid linking the same target more than once.\n",
      "W0000 00:00:1747234938.625873 3735682 computation_placer.cc:177] computation placer already registered. Please check linkage and avoid linking the same target more than once.\n",
      "W0000 00:00:1747234938.625877 3735682 computation_placer.cc:177] computation placer already registered. Please check linkage and avoid linking the same target more than once.\n",
      "2025-05-14 16:02:18.626471: E external/local_xla/xla/stream_executor/cuda/cuda_fft.cc:467] Unable to register cuFFT factory: Attempting to register factory for plugin cuFFT when one has already been registered\n",
      "WARNING: All log messages before absl::InitializeLog() is called are written to STDERR\n",
      "E0000 00:00:1747234938.641511 3735686 cuda_dnn.cc:8579] Unable to register cuDNN factory: Attempting to register factory for plugin cuDNN when one has already been registered\n",
      "E0000 00:00:1747234938.650904 3735686 cuda_blas.cc:1407] Unable to register cuBLAS factory: Attempting to register factory for plugin cuBLAS when one has already been registered\n",
      "WARNING: All log messages before absl::InitializeLog() is called are written to STDERR\n",
      "E0000 00:00:1747234938.661719 3735688 cuda_dnn.cc:8579] Unable to register cuDNN factory: Attempting to register factory for plugin cuDNN when one has already been registered\n",
      "E0000 00:00:1747234938.671348 3735688 cuda_blas.cc:1407] Unable to register cuBLAS factory: Attempting to register factory for plugin cuBLAS when one has already been registered\n",
      "W0000 00:00:1747234938.675057 3735686 computation_placer.cc:177] computation placer already registered. Please check linkage and avoid linking the same target more than once.\n",
      "W0000 00:00:1747234938.675087 3735686 computation_placer.cc:177] computation placer already registered. Please check linkage and avoid linking the same target more than once.\n",
      "W0000 00:00:1747234938.675090 3735686 computation_placer.cc:177] computation placer already registered. Please check linkage and avoid linking the same target more than once.\n",
      "W0000 00:00:1747234938.675093 3735686 computation_placer.cc:177] computation placer already registered. Please check linkage and avoid linking the same target more than once.\n",
      "W0000 00:00:1747234938.695109 3735688 computation_placer.cc:177] computation placer already registered. Please check linkage and avoid linking the same target more than once.\n",
      "W0000 00:00:1747234938.695146 3735688 computation_placer.cc:177] computation placer already registered. Please check linkage and avoid linking the same target more than once.\n",
      "W0000 00:00:1747234938.695149 3735688 computation_placer.cc:177] computation placer already registered. Please check linkage and avoid linking the same target more than once.\n",
      "W0000 00:00:1747234938.695152 3735688 computation_placer.cc:177] computation placer already registered. Please check linkage and avoid linking the same target more than once.\n"
     ]
    },
    {
     "name": "stdout",
     "output_type": "stream",
     "text": [
      "[Parallel(n_jobs=-1)]: Done   1 tasks      | elapsed:  1.3min\n",
      "[Parallel(n_jobs=-1)]: Done   2 tasks      | elapsed:  1.3min\n",
      "[Parallel(n_jobs=-1)]: Done   3 tasks      | elapsed:  1.3min\n",
      "[Parallel(n_jobs=-1)]: Done   5 out of  50 | elapsed:  1.3min remaining: 12.1min\n",
      "[Parallel(n_jobs=-1)]: Done   7 out of  50 | elapsed:  1.4min remaining:  8.5min\n",
      "[Parallel(n_jobs=-1)]: Done   9 out of  50 | elapsed:  1.4min remaining:  6.5min\n",
      "[Parallel(n_jobs=-1)]: Done  11 out of  50 | elapsed:  1.6min remaining:  5.7min\n",
      "[Parallel(n_jobs=-1)]: Done  13 out of  50 | elapsed:  1.6min remaining:  4.6min\n",
      "[Parallel(n_jobs=-1)]: Done  15 out of  50 | elapsed:  1.6min remaining:  3.8min\n",
      "[Parallel(n_jobs=-1)]: Done  17 out of  50 | elapsed:  1.7min remaining:  3.2min\n",
      "[Parallel(n_jobs=-1)]: Done  19 out of  50 | elapsed:  1.7min remaining:  2.7min\n",
      "[Parallel(n_jobs=-1)]: Done  21 out of  50 | elapsed:  1.7min remaining:  2.3min\n",
      "[Parallel(n_jobs=-1)]: Done  23 out of  50 | elapsed:  1.7min remaining:  2.0min\n",
      "[Parallel(n_jobs=-1)]: Done  25 out of  50 | elapsed:  2.7min remaining:  2.7min\n",
      "[Parallel(n_jobs=-1)]: Done  27 out of  50 | elapsed:  2.7min remaining:  2.3min\n",
      "[Parallel(n_jobs=-1)]: Done  29 out of  50 | elapsed:  2.8min remaining:  2.0min\n",
      "[Parallel(n_jobs=-1)]: Done  31 out of  50 | elapsed:  2.9min remaining:  1.8min\n",
      "[Parallel(n_jobs=-1)]: Done  33 out of  50 | elapsed:  2.9min remaining:  1.5min\n",
      "[Parallel(n_jobs=-1)]: Done  35 out of  50 | elapsed:  3.1min remaining:  1.3min\n",
      "[Parallel(n_jobs=-1)]: Done  37 out of  50 | elapsed:  3.1min remaining:  1.1min\n",
      "[Parallel(n_jobs=-1)]: Done  39 out of  50 | elapsed:  3.2min remaining:   53.5s\n",
      "[Parallel(n_jobs=-1)]: Done  41 out of  50 | elapsed:  3.2min remaining:   41.8s\n",
      "[Parallel(n_jobs=-1)]: Done  43 out of  50 | elapsed:  3.2min remaining:   31.2s\n",
      "[Parallel(n_jobs=-1)]: Done  45 out of  50 | elapsed:  3.2min remaining:   21.3s\n",
      "[Parallel(n_jobs=-1)]: Done  47 out of  50 | elapsed:  3.2min remaining:   12.3s\n",
      "[Parallel(n_jobs=-1)]: Done  50 out of  50 | elapsed:  3.7min finished\n",
      "(100, 10)\n"
     ]
    }
   ],
   "source": [
    "seed = 0\n",
    "num_items = 20\n",
    "config = {\n",
    "    \"n_users\": 50,\n",
    "    \"n_items\": num_items,\n",
    "    \"n_reco\": 5,\n",
    "    \"n_observation\": 100,\n",
    "    \"context_dim\": 10\n",
    "}\n",
    "\n",
    "result_df = pd.DataFrame()\n",
    "multiplier = -0.3\n",
    "num_iter = 30\n",
    "\n",
    "user_vectors = np.random.normal(0, 1, size=(config['n_users'], config['context_dim']))\n",
    "target_user_vectors = user_vectors * np.random.binomial(1, 0.5, size=user_vectors.shape)\n",
    "item_vectors = np.random.normal(0, 1, size=(config['n_items'], config['context_dim']))\n",
    "\n",
    "null_user_vectors = multiplier * target_user_vectors\n",
    "\n",
    "# The policy we use to generate sim data\n",
    "null_policy = MultinomialPolicy(item_vectors, null_user_vectors, config['n_items'], config['n_reco'],\n",
    "                                temperature=0.5, cal_gamma=True)\n",
    "\n",
    "# The target policy\n",
    "target_policy = MultinomialPolicy(item_vectors, target_user_vectors, config['n_items'], config['n_reco'],\n",
    "                                temperature=1.0, cal_gamma=False)\n",
    "\n",
    "environment = AvgEnvironment(item_vectors, user_vectors)\n",
    "\n",
    "np.random.seed(seed)\n",
    "sim_data = [simulate_data(null_policy, target_policy, environment, item_vectors)\n",
    "            for _ in range(config['n_observation'])]\n",
    "sim_data = pd.DataFrame(sim_data)\n",
    "\n",
    "# === Prepare estimators ===\n",
    "behavior_estimator = BehaviorPolicyEstimator(config[\"n_items\"])\n",
    "user_features = np.vstack(sim_data[\"null_context_vec\"].values)\n",
    "actions = [r[0] for r in sim_data[\"null_reco\"].values]  # Taking first item as action\n",
    "print(user_features.shape)\n",
    "behavior_estimator.fit(user_features, actions)\n",
    "\n",
    "reg_pow = -1\n",
    "reg_params = (10.0 ** reg_pow) / config['n_observation']\n",
    "bw_params = (10.0 ** 0)\n",
    "params = [reg_params, bw_params, bw_params]"
   ]
  },
  {
   "cell_type": "code",
   "execution_count": 11,
   "id": "fe904228-a61a-4e04-8ec5-9edb70fd3f21",
   "metadata": {},
   "outputs": [
    {
     "data": {
      "text/plain": [
       "0"
      ]
     },
     "execution_count": 11,
     "metadata": {},
     "output_type": "execute_result"
    }
   ],
   "source": [
    "sim_data[\"null_reward\"].isna().sum() #.loc[:, sim_data.isna().any()]"
   ]
  },
  {
   "cell_type": "code",
   "execution_count": 6,
   "id": "4d592898-8c36-4ff9-8df1-856cd27c5cd6",
   "metadata": {},
   "outputs": [
    {
     "data": {
      "text/plain": [
       "Index(['null_context_vec', 'target_context_vec', 'null_reco', 'null_reco_vec',\n",
       "       'null_reward', 'target_reco', 'null_multinomial', 'target_multinomial',\n",
       "       'target_reco_vec', 'target_reward', 'user'],\n",
       "      dtype='object')"
      ]
     },
     "execution_count": 6,
     "metadata": {},
     "output_type": "execute_result"
    }
   ],
   "source": [
    "sim_data.columns"
   ]
  },
  {
   "cell_type": "code",
   "execution_count": 6,
   "id": "be2c839f-5a7e-4050-a787-63fd47bba36c",
   "metadata": {},
   "outputs": [
    {
     "data": {
      "text/plain": [
       "(7.669967066542437e-16, 0.09679033628977758)"
      ]
     },
     "execution_count": 6,
     "metadata": {},
     "output_type": "execute_result"
    }
   ],
   "source": [
    "row = sim_data.iloc[0]\n",
    "# null_reco = row.null_reco\n",
    "target_policy.get_propensity(row.target_multinomial, row.null_reco), behavior_estimator.predict_proba(row.null_context_vec, row.null_reco[0])"
   ]
  },
  {
   "cell_type": "code",
   "execution_count": 7,
   "id": "5de9ec21-06d3-43d9-8c74-9139114142be",
   "metadata": {},
   "outputs": [
    {
     "data": {
      "text/plain": [
       "array([1.73935259e-03, 2.38212503e-04, 1.46035301e-03, 1.90904822e-04,\n",
       "       5.28800198e-03, 2.41339985e-02, 3.00833337e-03, 4.53617055e-04,\n",
       "       3.72627913e-02, 6.58069183e-02, 2.23973007e-04, 1.77826257e-03,\n",
       "       1.84736984e-04, 8.19902066e-01, 9.23724281e-04, 3.14726870e-02,\n",
       "       2.39932310e-04, 1.45168628e-04, 3.88030434e-03, 1.66666162e-03])"
      ]
     },
     "execution_count": 7,
     "metadata": {},
     "output_type": "execute_result"
    }
   ],
   "source": [
    "row.target_multinomial"
   ]
  },
  {
   "cell_type": "code",
   "execution_count": 53,
   "id": "141ebb23-f9c8-4f9f-9ac5-9867df684297",
   "metadata": {},
   "outputs": [],
   "source": [
    "import copy\n",
    "from sklearn.model_selection import StratifiedKFold\n",
    "data = sim_data\n",
    "params_grid = [[(10.0 ** p) / config['n_observation'], 1.0, 1.0] for p in np.arange(-7, 0, 1)]\n",
    "n_splits=5\n",
    "estimator = CMEbis(rbf_kernel, rbf_kernel, params)\n",
    "num_params = len(params_grid)\n",
    "num_data = len(data)\n",
    "\n",
    "kfold = StratifiedKFold(n_splits=n_splits)\n",
    "errors = np.zeros(num_params)\n",
    "\n",
    "# create estimators using parameter grid\n",
    "estimators = [copy.deepcopy(estimator) for _ in params_grid]\n",
    "for params, e in zip(params_grid, estimators):\n",
    "    e.params = params\n",
    "\n",
    "for train, test in kfold.split(np.zeros(num_data), data.null_reward):\n",
    "\n",
    "    # split the data\n",
    "    new_data = pd.concat([pd.DataFrame({'null_reward': data.null_reward.iloc[train].dropna(axis=0),\n",
    "                                        'null_context_vec': data.null_context_vec.iloc[train].dropna(axis=0),\n",
    "                                        'null_reco_vec': data.null_reco_vec.iloc[train].dropna(axis=0),\n",
    "                                        'null_reco': data.null_reco.iloc[train].dropna(axis=0),\n",
    "                                        'null_multinomial': data.null_multinomial.iloc[train].dropna(axis=0)}),\n",
    "                          pd.DataFrame({'target_context_vec': data.null_context_vec.iloc[test].dropna(axis=0),\n",
    "                                        'target_reco_vec': data.null_reco_vec.iloc[test].dropna(axis=0),\n",
    "                                        'target_reco': data.null_reco.iloc[test].dropna(axis=0),\n",
    "                                        'target_multinomial': data.target_multinomial.iloc[test].dropna(axis=0)})],\n",
    "                         axis=1)\n",
    "    # evaluate the estimator on each split\n",
    "    validate_data = data.iloc[test].dropna(axis=0)\n",
    "    validate_reward = data[\"null_reward\"].iloc[test].dropna(axis=0).values\n",
    "\n",
    "    nullProb = [behavior_estimator.get_propensity(row.null_context_vec, row.null_reco[0]) for _,row in validate_data.iterrows()]\n",
    "    if not target_policy.greedy:\n",
    "        targetProb = [target_policy.get_propensity(row.target_multinomial, row.null_reco) for _,row in validate_data.iterrows()]\n",
    "    else:\n",
    "        targetProb = [1.0 if row.null_reco == row.target_reco else 0 for _,row in validate_data.iterrows()]\n",
    "\n",
    "    ips_w = np.divide(targetProb, nullProb)\n",
    "    actual_value = np.mean(ips_w * validate_reward) / np.mean(ips_w)\n",
    "\n",
    "    # estimated_values = parallel(joblib.delayed(e.estimate)(new_data) for e in estimators)\n",
    "    estimated_values = [e.estimate(new_data) for e in estimators]\n",
    "    errors += [(est - actual_value) ** 2 for est in estimated_values]\n",
    "errors /= n_splits\n",
    "\n",
    "parameters = params_grid[np.argmin(errors)]"
   ]
  },
  {
   "cell_type": "code",
   "execution_count": 47,
   "id": "ace17184-b11f-4229-a52f-91d38d6a0ffb",
   "metadata": {},
   "outputs": [
    {
     "data": {
      "text/plain": [
       "array([0.24283445, 0.24283436, 0.24283338, 0.24282366, 0.24272695,\n",
       "       0.24181297, 0.23594965])"
      ]
     },
     "execution_count": 47,
     "metadata": {},
     "output_type": "execute_result"
    }
   ],
   "source": [
    "errors"
   ]
  },
  {
   "cell_type": "code",
   "execution_count": 54,
   "id": "9c909b8d-7b9f-43c1-978a-313210d17862",
   "metadata": {},
   "outputs": [
    {
     "data": {
      "text/plain": [
       "[0.001, 1.0, 1.0]"
      ]
     },
     "execution_count": 54,
     "metadata": {},
     "output_type": "execute_result"
    }
   ],
   "source": [
    "parameters"
   ]
  },
  {
   "cell_type": "code",
   "execution_count": 51,
   "id": "2d044bef-f6f8-41dc-a63e-f43020fd206e",
   "metadata": {
    "scrolled": true
   },
   "outputs": [],
   "source": [
    "reg_pow = 0\n",
    "reg_params = (10.0 ** reg_pow) / config['n_observation']\n",
    "bw_params = (10.0 ** 0)\n",
    "params = [reg_params, bw_params, bw_params]\n",
    "\n",
    "estimators = [  IPSEstimator(behavior_estimator, target_policy),\n",
    "                SlateEstimator(config['n_reco'], null_policy),\n",
    "                DirectEstimator(),\n",
    "                DoublyRobustEstimator(behavior_estimator, target_policy),\n",
    "                CMEbis(rbf_kernel, rbf_kernel, params),\n",
    "                DoublyRobustbis(rbf_kernel, rbf_kernel, params, behavior_estimator, target_policy)\n",
    "                ]\n",
    "\n",
    "# cme_selector = ParameterSelectorWithBehaviorEstimator(estimators[4])  # cme estimator\n",
    "# params_grid = [[(10.0 ** p) / config['n_observation'], 1.0, 1.0] for p in np.arange(-7, 0, 1)]\n",
    "# cme_selector.select_from_propensity(sim_data, params_grid, behavior_estimator, target_policy)\n",
    "# estimators[4] = cme_selector.estimator"
   ]
  },
  {
   "cell_type": "code",
   "execution_count": 52,
   "id": "58f512df-acb5-42ea-a8e5-82f4f6f78e7e",
   "metadata": {},
   "outputs": [
    {
     "data": {
      "text/plain": [
       "[0.01, 1.0, 1.0]"
      ]
     },
     "execution_count": 52,
     "metadata": {},
     "output_type": "execute_result"
    }
   ],
   "source": [
    "params"
   ]
  },
  {
   "cell_type": "code",
   "execution_count": 40,
   "id": "4fdb0913-87dd-4b10-8aa0-be025d075d9c",
   "metadata": {},
   "outputs": [
    {
     "data": {
      "text/plain": [
       "[0.001, 1.0, 1.0]"
      ]
     },
     "execution_count": 40,
     "metadata": {},
     "output_type": "execute_result"
    }
   ],
   "source": [
    "cme_selector.estimator._params"
   ]
  },
  {
   "cell_type": "code",
   "execution_count": 36,
   "id": "ac6b9197-66e7-4a98-aa06-25e445b94482",
   "metadata": {},
   "outputs": [
    {
     "data": {
      "text/plain": [
       "[0.001, 1.0, 1.0]"
      ]
     },
     "execution_count": 36,
     "metadata": {},
     "output_type": "execute_result"
    }
   ],
   "source": [
    "estimators[4]._params"
   ]
  },
  {
   "cell_type": "code",
   "execution_count": 55,
   "id": "156a28c0-da87-4c00-92f2-3abe38d01709",
   "metadata": {},
   "outputs": [
    {
     "data": {
      "text/plain": [
       "[0.0001, 1.0, 1.0]"
      ]
     },
     "execution_count": 55,
     "metadata": {},
     "output_type": "execute_result"
    }
   ],
   "source": [
    "estimators[5].params"
   ]
  },
  {
   "cell_type": "code",
   "execution_count": null,
   "id": "f8aa2c58-0d61-41ed-8f45-35e8923c05ee",
   "metadata": {},
   "outputs": [],
   "source": []
  }
 ],
 "metadata": {
  "kernelspec": {
   "display_name": "Python 3 (ipykernel)",
   "language": "python",
   "name": "python3"
  },
  "language_info": {
   "codemirror_mode": {
    "name": "ipython",
    "version": 3
   },
   "file_extension": ".py",
   "mimetype": "text/x-python",
   "name": "python",
   "nbconvert_exporter": "python",
   "pygments_lexer": "ipython3",
   "version": "3.10.16"
  }
 },
 "nbformat": 4,
 "nbformat_minor": 5
}
