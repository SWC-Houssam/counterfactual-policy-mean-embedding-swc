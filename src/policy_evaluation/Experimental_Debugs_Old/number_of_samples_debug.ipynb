{
 "cells": [
  {
   "cell_type": "code",
   "execution_count": 1,
   "id": "80a8b35e-4cd2-4e9b-8341-4c37c71e40a9",
   "metadata": {
    "scrolled": true
   },
   "outputs": [
    {
     "name": "stderr",
     "output_type": "stream",
     "text": [
      "2025-05-19 10:13:08.876526: I tensorflow/core/util/port.cc:153] oneDNN custom operations are on. You may see slightly different numerical results due to floating-point round-off errors from different computation orders. To turn them off, set the environment variable `TF_ENABLE_ONEDNN_OPTS=0`.\n",
      "2025-05-19 10:13:10.352577: E external/local_xla/xla/stream_executor/cuda/cuda_fft.cc:467] Unable to register cuFFT factory: Attempting to register factory for plugin cuFFT when one has already been registered\n",
      "WARNING: All log messages before absl::InitializeLog() is called are written to STDERR\n",
      "E0000 00:00:1747649591.151505 1500306 cuda_dnn.cc:8579] Unable to register cuDNN factory: Attempting to register factory for plugin cuDNN when one has already been registered\n",
      "E0000 00:00:1747649591.441539 1500306 cuda_blas.cc:1407] Unable to register cuBLAS factory: Attempting to register factory for plugin cuBLAS when one has already been registered\n",
      "W0000 00:00:1747649592.497877 1500306 computation_placer.cc:177] computation placer already registered. Please check linkage and avoid linking the same target more than once.\n",
      "W0000 00:00:1747649592.497929 1500306 computation_placer.cc:177] computation placer already registered. Please check linkage and avoid linking the same target more than once.\n",
      "W0000 00:00:1747649592.497935 1500306 computation_placer.cc:177] computation placer already registered. Please check linkage and avoid linking the same target more than once.\n",
      "W0000 00:00:1747649592.497940 1500306 computation_placer.cc:177] computation placer already registered. Please check linkage and avoid linking the same target more than once.\n",
      "2025-05-19 10:13:12.620989: I tensorflow/core/platform/cpu_feature_guard.cc:210] This TensorFlow binary is optimized to use available CPU instructions in performance-critical operations.\n",
      "To enable the following instructions: AVX2 AVX512F AVX512_VNNI FMA, in other operations, rebuild TensorFlow with the appropriate compiler flags.\n"
     ]
    },
    {
     "name": "stdout",
     "output_type": "stream",
     "text": [
      "[PhysicalDevice(name='/physical_device:GPU:0', device_type='GPU')]\n",
      "[Parallel(n_jobs=-1)]: Using backend LokyBackend with 2 concurrent workers.\n"
     ]
    },
    {
     "name": "stderr",
     "output_type": "stream",
     "text": [
      "2025-05-19 10:13:28.683777: I tensorflow/core/util/port.cc:153] oneDNN custom operations are on. You may see slightly different numerical results due to floating-point round-off errors from different computation orders. To turn them off, set the environment variable `TF_ENABLE_ONEDNN_OPTS=0`.\n",
      "2025-05-19 10:13:28.683780: I tensorflow/core/util/port.cc:153] oneDNN custom operations are on. You may see slightly different numerical results due to floating-point round-off errors from different computation orders. To turn them off, set the environment variable `TF_ENABLE_ONEDNN_OPTS=0`.\n",
      "2025-05-19 10:13:28.710404: E external/local_xla/xla/stream_executor/cuda/cuda_fft.cc:467] Unable to register cuFFT factory: Attempting to register factory for plugin cuFFT when one has already been registered\n",
      "2025-05-19 10:13:28.711142: E external/local_xla/xla/stream_executor/cuda/cuda_fft.cc:467] Unable to register cuFFT factory: Attempting to register factory for plugin cuFFT when one has already been registered\n",
      "WARNING: All log messages before absl::InitializeLog() is called are written to STDERR\n",
      "E0000 00:00:1747649608.742508 1500338 cuda_dnn.cc:8579] Unable to register cuDNN factory: Attempting to register factory for plugin cuDNN when one has already been registered\n",
      "WARNING: All log messages before absl::InitializeLog() is called are written to STDERR\n",
      "E0000 00:00:1747649608.744812 1500337 cuda_dnn.cc:8579] Unable to register cuDNN factory: Attempting to register factory for plugin cuDNN when one has already been registered\n",
      "E0000 00:00:1747649608.752119 1500338 cuda_blas.cc:1407] Unable to register cuBLAS factory: Attempting to register factory for plugin cuBLAS when one has already been registered\n",
      "E0000 00:00:1747649608.754998 1500337 cuda_blas.cc:1407] Unable to register cuBLAS factory: Attempting to register factory for plugin cuBLAS when one has already been registered\n",
      "W0000 00:00:1747649608.776355 1500338 computation_placer.cc:177] computation placer already registered. Please check linkage and avoid linking the same target more than once.\n",
      "W0000 00:00:1747649608.776435 1500338 computation_placer.cc:177] computation placer already registered. Please check linkage and avoid linking the same target more than once.\n",
      "W0000 00:00:1747649608.776463 1500338 computation_placer.cc:177] computation placer already registered. Please check linkage and avoid linking the same target more than once.\n",
      "W0000 00:00:1747649608.776490 1500338 computation_placer.cc:177] computation placer already registered. Please check linkage and avoid linking the same target more than once.\n",
      "W0000 00:00:1747649608.779575 1500337 computation_placer.cc:177] computation placer already registered. Please check linkage and avoid linking the same target more than once.\n",
      "W0000 00:00:1747649608.779641 1500337 computation_placer.cc:177] computation placer already registered. Please check linkage and avoid linking the same target more than once.\n",
      "W0000 00:00:1747649608.779667 1500337 computation_placer.cc:177] computation placer already registered. Please check linkage and avoid linking the same target more than once.\n",
      "W0000 00:00:1747649608.779691 1500337 computation_placer.cc:177] computation placer already registered. Please check linkage and avoid linking the same target more than once.\n",
      "2025-05-19 10:13:28.783659: I tensorflow/core/platform/cpu_feature_guard.cc:210] This TensorFlow binary is optimized to use available CPU instructions in performance-critical operations.\n",
      "To enable the following instructions: AVX2 AVX512F AVX512_VNNI FMA, in other operations, rebuild TensorFlow with the appropriate compiler flags.\n",
      "2025-05-19 10:13:28.786025: I tensorflow/core/platform/cpu_feature_guard.cc:210] This TensorFlow binary is optimized to use available CPU instructions in performance-critical operations.\n",
      "To enable the following instructions: AVX2 AVX512F AVX512_VNNI FMA, in other operations, rebuild TensorFlow with the appropriate compiler flags.\n"
     ]
    },
    {
     "name": "stdout",
     "output_type": "stream",
     "text": [
      "[Parallel(n_jobs=-1)]: Done   1 tasks      | elapsed:   34.5s\n",
      "[Parallel(n_jobs=-1)]: Done   2 tasks      | elapsed:   34.6s\n",
      "[Parallel(n_jobs=-1)]: Done   3 tasks      | elapsed:  1.0min\n",
      "[Parallel(n_jobs=-1)]: Done   4 tasks      | elapsed:  1.0min\n",
      "[Parallel(n_jobs=-1)]: Done   5 tasks      | elapsed:  1.4min\n",
      "[Parallel(n_jobs=-1)]: Done   6 tasks      | elapsed:  1.4min\n",
      "[Parallel(n_jobs=-1)]: Done   7 tasks      | elapsed:  1.9min\n",
      "[Parallel(n_jobs=-1)]: Done   8 tasks      | elapsed:  1.9min\n",
      "[Parallel(n_jobs=-1)]: Done   9 tasks      | elapsed:  2.3min\n",
      "[Parallel(n_jobs=-1)]: Done  10 tasks      | elapsed:  2.3min\n",
      "[Parallel(n_jobs=-1)]: Done  11 tasks      | elapsed:  2.7min\n",
      "[Parallel(n_jobs=-1)]: Done  12 tasks      | elapsed:  2.7min\n",
      "[Parallel(n_jobs=-1)]: Done  13 tasks      | elapsed:  3.1min\n",
      "[Parallel(n_jobs=-1)]: Done  14 tasks      | elapsed:  3.2min\n",
      "[Parallel(n_jobs=-1)]: Done  15 tasks      | elapsed:  3.6min\n",
      "[Parallel(n_jobs=-1)]: Done  16 tasks      | elapsed:  3.6min\n",
      "[Parallel(n_jobs=-1)]: Done  17 tasks      | elapsed:  4.0min\n",
      "[Parallel(n_jobs=-1)]: Done  18 tasks      | elapsed:  4.0min\n",
      "[Parallel(n_jobs=-1)]: Done  19 tasks      | elapsed:  4.4min\n",
      "[Parallel(n_jobs=-1)]: Done  20 tasks      | elapsed:  4.4min\n",
      "[Parallel(n_jobs=-1)]: Done  21 tasks      | elapsed:  4.9min\n",
      "[Parallel(n_jobs=-1)]: Done  22 tasks      | elapsed:  4.9min\n",
      "[Parallel(n_jobs=-1)]: Done  23 tasks      | elapsed:  5.3min\n",
      "[Parallel(n_jobs=-1)]: Done  24 tasks      | elapsed:  5.3min\n",
      "[Parallel(n_jobs=-1)]: Done  25 tasks      | elapsed:  5.7min\n",
      "[Parallel(n_jobs=-1)]: Done  26 tasks      | elapsed:  5.7min\n",
      "[Parallel(n_jobs=-1)]: Done  27 tasks      | elapsed:  6.1min\n",
      "[Parallel(n_jobs=-1)]: Done  28 out of  30 | elapsed:  6.2min remaining:   26.4s\n",
      "[Parallel(n_jobs=-1)]: Done  30 out of  30 | elapsed:  6.6min finished\n"
     ]
    },
    {
     "name": "stderr",
     "output_type": "stream",
     "text": [
      "Obs size 100:   0%|          | 0/3 [00:00<?, ?it/s]/nfs/ghome/live/bbozkurt/.conda/envs/tensorenv/lib/python3.10/site-packages/keras/src/layers/core/dense.py:87: UserWarning: Do not pass an `input_shape`/`input_dim` argument to a layer. When using Sequential models, prefer using an `Input(shape)` object as the first layer in the model instead.\n",
      "  super().__init__(activity_regularizer=activity_regularizer, **kwargs)\n",
      "I0000 00:00:1747650003.457700 1500306 gpu_device.cc:2019] Created device /job:localhost/replica:0/task:0/device:GPU:0 with 38484 MB memory:  -> device: 0, name: NVIDIA A100-SXM4-40GB, pci bus id: 0000:31:00.0, compute capability: 8.0\n",
      "WARNING: All log messages before absl::InitializeLog() is called are written to STDERR\n",
      "I0000 00:00:1747650006.562167 1500406 service.cc:152] XLA service 0x7b4cd40153e0 initialized for platform CUDA (this does not guarantee that XLA will be used). Devices:\n",
      "I0000 00:00:1747650006.562191 1500406 service.cc:160]   StreamExecutor device (0): NVIDIA A100-SXM4-40GB, Compute Capability 8.0\n",
      "2025-05-19 10:20:06.825041: I tensorflow/compiler/mlir/tensorflow/utils/dump_mlir_util.cc:269] disabling MLIR crash reproducer, set env var `MLIR_CRASH_REPRODUCER_DIRECTORY` to enable.\n",
      "I0000 00:00:1747650007.058347 1500406 cuda_dnn.cc:529] Loaded cuDNN version 90300\n",
      "I0000 00:00:1747650007.595390 1500406 device_compiler.h:188] Compiled cluster using XLA!  This line is logged at most once for the lifetime of the process.\n",
      "/nfs/ghome/live/bbozkurt/.conda/envs/tensorenv/lib/python3.10/site-packages/keras/src/layers/core/dense.py:87: UserWarning: Do not pass an `input_shape`/`input_dim` argument to a layer. When using Sequential models, prefer using an `Input(shape)` object as the first layer in the model instead.\n",
      "  super().__init__(activity_regularizer=activity_regularizer, **kwargs)\n"
     ]
    },
    {
     "name": "stdout",
     "output_type": "stream",
     "text": [
      "WARNING:tensorflow:5 out of the last 5 calls to <function TensorFlowTrainer.make_predict_function.<locals>.one_step_on_data_distributed at 0x7b4dbde7bb50> triggered tf.function retracing. Tracing is expensive and the excessive number of tracings could be due to (1) creating @tf.function repeatedly in a loop, (2) passing tensors with different shapes, (3) passing Python objects instead of tensors. For (1), please define your @tf.function outside of the loop. For (2), @tf.function has reduce_retracing=True option that can avoid unnecessary retracing. For (3), please refer to https://www.tensorflow.org/guide/function#controlling_retracing and https://www.tensorflow.org/api_docs/python/tf/function for  more details.\n",
      "WARNING:tensorflow:6 out of the last 6 calls to <function TensorFlowTrainer.make_predict_function.<locals>.one_step_on_data_distributed at 0x7b4dc9b04700> triggered tf.function retracing. Tracing is expensive and the excessive number of tracings could be due to (1) creating @tf.function repeatedly in a loop, (2) passing tensors with different shapes, (3) passing Python objects instead of tensors. For (1), please define your @tf.function outside of the loop. For (2), @tf.function has reduce_retracing=True option that can avoid unnecessary retracing. For (3), please refer to https://www.tensorflow.org/guide/function#controlling_retracing and https://www.tensorflow.org/api_docs/python/tf/function for  more details.\n"
     ]
    },
    {
     "name": "stderr",
     "output_type": "stream",
     "text": [
      "/nfs/ghome/live/bbozkurt/.conda/envs/tensorenv/lib/python3.10/site-packages/keras/src/layers/core/dense.py:87: UserWarning: Do not pass an `input_shape`/`input_dim` argument to a layer. When using Sequential models, prefer using an `Input(shape)` object as the first layer in the model instead.\n",
      "  super().__init__(activity_regularizer=activity_regularizer, **kwargs)\n",
      "/nfs/ghome/live/bbozkurt/.conda/envs/tensorenv/lib/python3.10/site-packages/keras/src/layers/core/dense.py:87: UserWarning: Do not pass an `input_shape`/`input_dim` argument to a layer. When using Sequential models, prefer using an `Input(shape)` object as the first layer in the model instead.\n",
      "  super().__init__(activity_regularizer=activity_regularizer, **kwargs)\n",
      "/nfs/ghome/live/bbozkurt/.conda/envs/tensorenv/lib/python3.10/site-packages/keras/src/layers/core/dense.py:87: UserWarning: Do not pass an `input_shape`/`input_dim` argument to a layer. When using Sequential models, prefer using an `Input(shape)` object as the first layer in the model instead.\n",
      "  super().__init__(activity_regularizer=activity_regularizer, **kwargs)\n"
     ]
    },
    {
     "name": "stdout",
     "output_type": "stream",
     "text": [
      "PARAMETER SELECTION IS DONE!\n",
      "PARAMETER SELECTION IS DONE!\n"
     ]
    },
    {
     "name": "stderr",
     "output_type": "stream",
     "text": [
      "/nfs/ghome/live/bbozkurt/.conda/envs/tensorenv/lib/python3.10/site-packages/keras/src/layers/core/dense.py:87: UserWarning: Do not pass an `input_shape`/`input_dim` argument to a layer. When using Sequential models, prefer using an `Input(shape)` object as the first layer in the model instead.\n",
      "  super().__init__(activity_regularizer=activity_regularizer, **kwargs)\n",
      "/nfs/ghome/live/bbozkurt/.conda/envs/tensorenv/lib/python3.10/site-packages/keras/src/layers/core/dense.py:87: UserWarning: Do not pass an `input_shape`/`input_dim` argument to a layer. When using Sequential models, prefer using an `Input(shape)` object as the first layer in the model instead.\n",
      "  super().__init__(activity_regularizer=activity_regularizer, **kwargs)\n"
     ]
    },
    {
     "name": "stdout",
     "output_type": "stream",
     "text": [
      "\u001b[1m1/1\u001b[0m \u001b[32m━━━━━━━━━━━━━━━━━━━━\u001b[0m\u001b[37m\u001b[0m \u001b[1m0s\u001b[0m 264ms/step\n",
      "\u001b[1m1/1\u001b[0m \u001b[32m━━━━━━━━━━━━━━━━━━━━\u001b[0m\u001b[37m\u001b[0m \u001b[1m0s\u001b[0m 41ms/step\n"
     ]
    },
    {
     "name": "stderr",
     "output_type": "stream",
     "text": [
      "Obs size 100:  33%|███▎      | 1/3 [01:11<02:23, 71.75s/it]/nfs/ghome/live/bbozkurt/.conda/envs/tensorenv/lib/python3.10/site-packages/keras/src/layers/core/dense.py:87: UserWarning: Do not pass an `input_shape`/`input_dim` argument to a layer. When using Sequential models, prefer using an `Input(shape)` object as the first layer in the model instead.\n",
      "  super().__init__(activity_regularizer=activity_regularizer, **kwargs)\n",
      "/nfs/ghome/live/bbozkurt/.conda/envs/tensorenv/lib/python3.10/site-packages/keras/src/layers/core/dense.py:87: UserWarning: Do not pass an `input_shape`/`input_dim` argument to a layer. When using Sequential models, prefer using an `Input(shape)` object as the first layer in the model instead.\n",
      "  super().__init__(activity_regularizer=activity_regularizer, **kwargs)\n",
      "/nfs/ghome/live/bbozkurt/.conda/envs/tensorenv/lib/python3.10/site-packages/keras/src/layers/core/dense.py:87: UserWarning: Do not pass an `input_shape`/`input_dim` argument to a layer. When using Sequential models, prefer using an `Input(shape)` object as the first layer in the model instead.\n",
      "  super().__init__(activity_regularizer=activity_regularizer, **kwargs)\n",
      "/nfs/ghome/live/bbozkurt/.conda/envs/tensorenv/lib/python3.10/site-packages/keras/src/layers/core/dense.py:87: UserWarning: Do not pass an `input_shape`/`input_dim` argument to a layer. When using Sequential models, prefer using an `Input(shape)` object as the first layer in the model instead.\n",
      "  super().__init__(activity_regularizer=activity_regularizer, **kwargs)\n",
      "/nfs/ghome/live/bbozkurt/.conda/envs/tensorenv/lib/python3.10/site-packages/keras/src/layers/core/dense.py:87: UserWarning: Do not pass an `input_shape`/`input_dim` argument to a layer. When using Sequential models, prefer using an `Input(shape)` object as the first layer in the model instead.\n",
      "  super().__init__(activity_regularizer=activity_regularizer, **kwargs)\n"
     ]
    },
    {
     "name": "stdout",
     "output_type": "stream",
     "text": [
      "PARAMETER SELECTION IS DONE!\n",
      "PARAMETER SELECTION IS DONE!\n"
     ]
    },
    {
     "name": "stderr",
     "output_type": "stream",
     "text": [
      "/nfs/ghome/live/bbozkurt/.conda/envs/tensorenv/lib/python3.10/site-packages/keras/src/layers/core/dense.py:87: UserWarning: Do not pass an `input_shape`/`input_dim` argument to a layer. When using Sequential models, prefer using an `Input(shape)` object as the first layer in the model instead.\n",
      "  super().__init__(activity_regularizer=activity_regularizer, **kwargs)\n",
      "/nfs/ghome/live/bbozkurt/.conda/envs/tensorenv/lib/python3.10/site-packages/keras/src/layers/core/dense.py:87: UserWarning: Do not pass an `input_shape`/`input_dim` argument to a layer. When using Sequential models, prefer using an `Input(shape)` object as the first layer in the model instead.\n",
      "  super().__init__(activity_regularizer=activity_regularizer, **kwargs)\n"
     ]
    },
    {
     "name": "stdout",
     "output_type": "stream",
     "text": [
      "\u001b[1m1/1\u001b[0m \u001b[32m━━━━━━━━━━━━━━━━━━━━\u001b[0m\u001b[37m\u001b[0m \u001b[1m0s\u001b[0m 254ms/step\n",
      "\u001b[1m1/1\u001b[0m \u001b[32m━━━━━━━━━━━━━━━━━━━━\u001b[0m\u001b[37m\u001b[0m \u001b[1m0s\u001b[0m 54ms/step\n"
     ]
    },
    {
     "name": "stderr",
     "output_type": "stream",
     "text": [
      "Obs size 100:  67%|██████▋   | 2/3 [02:19<01:09, 69.24s/it]/nfs/ghome/live/bbozkurt/.conda/envs/tensorenv/lib/python3.10/site-packages/keras/src/layers/core/dense.py:87: UserWarning: Do not pass an `input_shape`/`input_dim` argument to a layer. When using Sequential models, prefer using an `Input(shape)` object as the first layer in the model instead.\n",
      "  super().__init__(activity_regularizer=activity_regularizer, **kwargs)\n",
      "/nfs/ghome/live/bbozkurt/.conda/envs/tensorenv/lib/python3.10/site-packages/keras/src/layers/core/dense.py:87: UserWarning: Do not pass an `input_shape`/`input_dim` argument to a layer. When using Sequential models, prefer using an `Input(shape)` object as the first layer in the model instead.\n",
      "  super().__init__(activity_regularizer=activity_regularizer, **kwargs)\n",
      "/nfs/ghome/live/bbozkurt/.conda/envs/tensorenv/lib/python3.10/site-packages/keras/src/layers/core/dense.py:87: UserWarning: Do not pass an `input_shape`/`input_dim` argument to a layer. When using Sequential models, prefer using an `Input(shape)` object as the first layer in the model instead.\n",
      "  super().__init__(activity_regularizer=activity_regularizer, **kwargs)\n",
      "/nfs/ghome/live/bbozkurt/.conda/envs/tensorenv/lib/python3.10/site-packages/keras/src/layers/core/dense.py:87: UserWarning: Do not pass an `input_shape`/`input_dim` argument to a layer. When using Sequential models, prefer using an `Input(shape)` object as the first layer in the model instead.\n",
      "  super().__init__(activity_regularizer=activity_regularizer, **kwargs)\n",
      "/nfs/ghome/live/bbozkurt/.conda/envs/tensorenv/lib/python3.10/site-packages/keras/src/layers/core/dense.py:87: UserWarning: Do not pass an `input_shape`/`input_dim` argument to a layer. When using Sequential models, prefer using an `Input(shape)` object as the first layer in the model instead.\n",
      "  super().__init__(activity_regularizer=activity_regularizer, **kwargs)\n"
     ]
    },
    {
     "name": "stdout",
     "output_type": "stream",
     "text": [
      "PARAMETER SELECTION IS DONE!\n",
      "PARAMETER SELECTION IS DONE!\n"
     ]
    },
    {
     "name": "stderr",
     "output_type": "stream",
     "text": [
      "/nfs/ghome/live/bbozkurt/.conda/envs/tensorenv/lib/python3.10/site-packages/keras/src/layers/core/dense.py:87: UserWarning: Do not pass an `input_shape`/`input_dim` argument to a layer. When using Sequential models, prefer using an `Input(shape)` object as the first layer in the model instead.\n",
      "  super().__init__(activity_regularizer=activity_regularizer, **kwargs)\n",
      "/nfs/ghome/live/bbozkurt/.conda/envs/tensorenv/lib/python3.10/site-packages/keras/src/layers/core/dense.py:87: UserWarning: Do not pass an `input_shape`/`input_dim` argument to a layer. When using Sequential models, prefer using an `Input(shape)` object as the first layer in the model instead.\n",
      "  super().__init__(activity_regularizer=activity_regularizer, **kwargs)\n"
     ]
    },
    {
     "name": "stdout",
     "output_type": "stream",
     "text": [
      "\u001b[1m1/1\u001b[0m \u001b[32m━━━━━━━━━━━━━━━━━━━━\u001b[0m\u001b[37m\u001b[0m \u001b[1m0s\u001b[0m 241ms/step\n",
      "\u001b[1m1/1\u001b[0m \u001b[32m━━━━━━━━━━━━━━━━━━━━\u001b[0m\u001b[37m\u001b[0m \u001b[1m0s\u001b[0m 52ms/step\n"
     ]
    },
    {
     "name": "stderr",
     "output_type": "stream",
     "text": [
      "Obs size 100: 100%|██████████| 3/3 [03:26<00:00, 68.82s/it]"
     ]
    },
    {
     "name": "stdout",
     "output_type": "stream",
     "text": [
      "[Parallel(n_jobs=-1)]: Using backend LokyBackend with 2 concurrent workers.\n"
     ]
    },
    {
     "name": "stderr",
     "output_type": "stream",
     "text": [
      "\n",
      "2025-05-19 10:23:29.955080: I tensorflow/core/util/port.cc:153] oneDNN custom operations are on. You may see slightly different numerical results due to floating-point round-off errors from different computation orders. To turn them off, set the environment variable `TF_ENABLE_ONEDNN_OPTS=0`.\n",
      "2025-05-19 10:23:29.955080: I tensorflow/core/util/port.cc:153] oneDNN custom operations are on. You may see slightly different numerical results due to floating-point round-off errors from different computation orders. To turn them off, set the environment variable `TF_ENABLE_ONEDNN_OPTS=0`.\n",
      "2025-05-19 10:23:29.992512: E external/local_xla/xla/stream_executor/cuda/cuda_fft.cc:467] Unable to register cuFFT factory: Attempting to register factory for plugin cuFFT when one has already been registered\n",
      "2025-05-19 10:23:29.992546: E external/local_xla/xla/stream_executor/cuda/cuda_fft.cc:467] Unable to register cuFFT factory: Attempting to register factory for plugin cuFFT when one has already been registered\n",
      "WARNING: All log messages before absl::InitializeLog() is called are written to STDERR\n",
      "WARNING: All log messages before absl::InitializeLog() is called are written to STDERR\n",
      "E0000 00:00:1747650210.027995 1514199 cuda_dnn.cc:8579] Unable to register cuDNN factory: Attempting to register factory for plugin cuDNN when one has already been registered\n",
      "E0000 00:00:1747650210.027995 1514198 cuda_dnn.cc:8579] Unable to register cuDNN factory: Attempting to register factory for plugin cuDNN when one has already been registered\n",
      "E0000 00:00:1747650210.038621 1514199 cuda_blas.cc:1407] Unable to register cuBLAS factory: Attempting to register factory for plugin cuBLAS when one has already been registered\n",
      "E0000 00:00:1747650210.038797 1514198 cuda_blas.cc:1407] Unable to register cuBLAS factory: Attempting to register factory for plugin cuBLAS when one has already been registered\n",
      "W0000 00:00:1747650210.066215 1514198 computation_placer.cc:177] computation placer already registered. Please check linkage and avoid linking the same target more than once.\n",
      "W0000 00:00:1747650210.066215 1514199 computation_placer.cc:177] computation placer already registered. Please check linkage and avoid linking the same target more than once.\n",
      "W0000 00:00:1747650210.066244 1514199 computation_placer.cc:177] computation placer already registered. Please check linkage and avoid linking the same target more than once.\n",
      "W0000 00:00:1747650210.066247 1514199 computation_placer.cc:177] computation placer already registered. Please check linkage and avoid linking the same target more than once.\n",
      "W0000 00:00:1747650210.066249 1514199 computation_placer.cc:177] computation placer already registered. Please check linkage and avoid linking the same target more than once.\n",
      "W0000 00:00:1747650210.066355 1514198 computation_placer.cc:177] computation placer already registered. Please check linkage and avoid linking the same target more than once.\n",
      "W0000 00:00:1747650210.066386 1514198 computation_placer.cc:177] computation placer already registered. Please check linkage and avoid linking the same target more than once.\n",
      "W0000 00:00:1747650210.066411 1514198 computation_placer.cc:177] computation placer already registered. Please check linkage and avoid linking the same target more than once.\n",
      "2025-05-19 10:23:30.073897: I tensorflow/core/platform/cpu_feature_guard.cc:210] This TensorFlow binary is optimized to use available CPU instructions in performance-critical operations.\n",
      "To enable the following instructions: AVX2 AVX512F AVX512_VNNI FMA, in other operations, rebuild TensorFlow with the appropriate compiler flags.\n",
      "2025-05-19 10:23:30.073897: I tensorflow/core/platform/cpu_feature_guard.cc:210] This TensorFlow binary is optimized to use available CPU instructions in performance-critical operations.\n",
      "To enable the following instructions: AVX2 AVX512F AVX512_VNNI FMA, in other operations, rebuild TensorFlow with the appropriate compiler flags.\n"
     ]
    },
    {
     "name": "stdout",
     "output_type": "stream",
     "text": [
      "[Parallel(n_jobs=-1)]: Done   1 tasks      | elapsed:   40.6s\n",
      "[Parallel(n_jobs=-1)]: Done   2 tasks      | elapsed:   40.6s\n",
      "[Parallel(n_jobs=-1)]: Done   3 tasks      | elapsed:  1.1min\n",
      "[Parallel(n_jobs=-1)]: Done   4 tasks      | elapsed:  1.1min\n",
      "[Parallel(n_jobs=-1)]: Done   5 tasks      | elapsed:  1.5min\n",
      "[Parallel(n_jobs=-1)]: Done   6 tasks      | elapsed:  1.5min\n",
      "[Parallel(n_jobs=-1)]: Done   7 tasks      | elapsed:  2.0min\n",
      "[Parallel(n_jobs=-1)]: Done   8 tasks      | elapsed:  2.0min\n",
      "[Parallel(n_jobs=-1)]: Done   9 tasks      | elapsed:  2.4min\n",
      "[Parallel(n_jobs=-1)]: Done  10 tasks      | elapsed:  2.4min\n",
      "[Parallel(n_jobs=-1)]: Done  11 tasks      | elapsed:  2.8min\n",
      "[Parallel(n_jobs=-1)]: Done  12 tasks      | elapsed:  2.8min\n",
      "[Parallel(n_jobs=-1)]: Done  13 tasks      | elapsed:  3.3min\n",
      "[Parallel(n_jobs=-1)]: Done  14 tasks      | elapsed:  3.3min\n",
      "[Parallel(n_jobs=-1)]: Done  15 tasks      | elapsed:  3.7min\n",
      "[Parallel(n_jobs=-1)]: Done  16 tasks      | elapsed:  3.7min\n",
      "[Parallel(n_jobs=-1)]: Done  17 tasks      | elapsed:  4.1min\n",
      "[Parallel(n_jobs=-1)]: Done  18 tasks      | elapsed:  4.1min\n",
      "[Parallel(n_jobs=-1)]: Done  19 tasks      | elapsed:  4.5min\n",
      "[Parallel(n_jobs=-1)]: Done  20 tasks      | elapsed:  4.5min\n",
      "[Parallel(n_jobs=-1)]: Done  21 tasks      | elapsed:  5.0min\n",
      "[Parallel(n_jobs=-1)]: Done  22 tasks      | elapsed:  5.0min\n",
      "[Parallel(n_jobs=-1)]: Done  23 tasks      | elapsed:  5.4min\n",
      "[Parallel(n_jobs=-1)]: Done  24 tasks      | elapsed:  5.4min\n",
      "[Parallel(n_jobs=-1)]: Done  25 tasks      | elapsed:  5.8min\n",
      "[Parallel(n_jobs=-1)]: Done  26 tasks      | elapsed:  5.8min\n",
      "[Parallel(n_jobs=-1)]: Done  27 tasks      | elapsed:  6.3min\n",
      "[Parallel(n_jobs=-1)]: Done  28 out of  30 | elapsed:  6.3min remaining:   26.9s\n",
      "[Parallel(n_jobs=-1)]: Done  30 out of  30 | elapsed:  6.7min finished\n"
     ]
    },
    {
     "name": "stderr",
     "output_type": "stream",
     "text": [
      "Obs size 1000:   0%|          | 0/3 [00:00<?, ?it/s]/nfs/ghome/live/bbozkurt/.conda/envs/tensorenv/lib/python3.10/site-packages/keras/src/layers/core/dense.py:87: UserWarning: Do not pass an `input_shape`/`input_dim` argument to a layer. When using Sequential models, prefer using an `Input(shape)` object as the first layer in the model instead.\n",
      "  super().__init__(activity_regularizer=activity_regularizer, **kwargs)\n",
      "/nfs/ghome/live/bbozkurt/.conda/envs/tensorenv/lib/python3.10/site-packages/keras/src/layers/core/dense.py:87: UserWarning: Do not pass an `input_shape`/`input_dim` argument to a layer. When using Sequential models, prefer using an `Input(shape)` object as the first layer in the model instead.\n",
      "  super().__init__(activity_regularizer=activity_regularizer, **kwargs)\n",
      "/nfs/ghome/live/bbozkurt/.conda/envs/tensorenv/lib/python3.10/site-packages/keras/src/layers/core/dense.py:87: UserWarning: Do not pass an `input_shape`/`input_dim` argument to a layer. When using Sequential models, prefer using an `Input(shape)` object as the first layer in the model instead.\n",
      "  super().__init__(activity_regularizer=activity_regularizer, **kwargs)\n",
      "/nfs/ghome/live/bbozkurt/.conda/envs/tensorenv/lib/python3.10/site-packages/keras/src/layers/core/dense.py:87: UserWarning: Do not pass an `input_shape`/`input_dim` argument to a layer. When using Sequential models, prefer using an `Input(shape)` object as the first layer in the model instead.\n",
      "  super().__init__(activity_regularizer=activity_regularizer, **kwargs)\n",
      "/nfs/ghome/live/bbozkurt/.conda/envs/tensorenv/lib/python3.10/site-packages/keras/src/layers/core/dense.py:87: UserWarning: Do not pass an `input_shape`/`input_dim` argument to a layer. When using Sequential models, prefer using an `Input(shape)` object as the first layer in the model instead.\n",
      "  super().__init__(activity_regularizer=activity_regularizer, **kwargs)\n"
     ]
    },
    {
     "name": "stdout",
     "output_type": "stream",
     "text": [
      "PARAMETER SELECTION IS DONE!\n",
      "PARAMETER SELECTION IS DONE!\n"
     ]
    },
    {
     "name": "stderr",
     "output_type": "stream",
     "text": [
      "/nfs/ghome/live/bbozkurt/.conda/envs/tensorenv/lib/python3.10/site-packages/keras/src/layers/core/dense.py:87: UserWarning: Do not pass an `input_shape`/`input_dim` argument to a layer. When using Sequential models, prefer using an `Input(shape)` object as the first layer in the model instead.\n",
      "  super().__init__(activity_regularizer=activity_regularizer, **kwargs)\n",
      "/nfs/ghome/live/bbozkurt/.conda/envs/tensorenv/lib/python3.10/site-packages/keras/src/layers/core/dense.py:87: UserWarning: Do not pass an `input_shape`/`input_dim` argument to a layer. When using Sequential models, prefer using an `Input(shape)` object as the first layer in the model instead.\n",
      "  super().__init__(activity_regularizer=activity_regularizer, **kwargs)\n"
     ]
    },
    {
     "name": "stdout",
     "output_type": "stream",
     "text": [
      "\u001b[1m4/4\u001b[0m \u001b[32m━━━━━━━━━━━━━━━━━━━━\u001b[0m\u001b[37m\u001b[0m \u001b[1m1s\u001b[0m 86ms/step\n",
      "\u001b[1m4/4\u001b[0m \u001b[32m━━━━━━━━━━━━━━━━━━━━\u001b[0m\u001b[37m\u001b[0m \u001b[1m0s\u001b[0m 10ms/step\n"
     ]
    },
    {
     "name": "stderr",
     "output_type": "stream",
     "text": [
      "Obs size 1000:  33%|███▎      | 1/3 [01:17<02:34, 77.22s/it]/nfs/ghome/live/bbozkurt/.conda/envs/tensorenv/lib/python3.10/site-packages/keras/src/layers/core/dense.py:87: UserWarning: Do not pass an `input_shape`/`input_dim` argument to a layer. When using Sequential models, prefer using an `Input(shape)` object as the first layer in the model instead.\n",
      "  super().__init__(activity_regularizer=activity_regularizer, **kwargs)\n",
      "/nfs/ghome/live/bbozkurt/.conda/envs/tensorenv/lib/python3.10/site-packages/keras/src/layers/core/dense.py:87: UserWarning: Do not pass an `input_shape`/`input_dim` argument to a layer. When using Sequential models, prefer using an `Input(shape)` object as the first layer in the model instead.\n",
      "  super().__init__(activity_regularizer=activity_regularizer, **kwargs)\n",
      "/nfs/ghome/live/bbozkurt/.conda/envs/tensorenv/lib/python3.10/site-packages/keras/src/layers/core/dense.py:87: UserWarning: Do not pass an `input_shape`/`input_dim` argument to a layer. When using Sequential models, prefer using an `Input(shape)` object as the first layer in the model instead.\n",
      "  super().__init__(activity_regularizer=activity_regularizer, **kwargs)\n",
      "/nfs/ghome/live/bbozkurt/.conda/envs/tensorenv/lib/python3.10/site-packages/keras/src/layers/core/dense.py:87: UserWarning: Do not pass an `input_shape`/`input_dim` argument to a layer. When using Sequential models, prefer using an `Input(shape)` object as the first layer in the model instead.\n",
      "  super().__init__(activity_regularizer=activity_regularizer, **kwargs)\n",
      "/nfs/ghome/live/bbozkurt/.conda/envs/tensorenv/lib/python3.10/site-packages/keras/src/layers/core/dense.py:87: UserWarning: Do not pass an `input_shape`/`input_dim` argument to a layer. When using Sequential models, prefer using an `Input(shape)` object as the first layer in the model instead.\n",
      "  super().__init__(activity_regularizer=activity_regularizer, **kwargs)\n"
     ]
    },
    {
     "name": "stdout",
     "output_type": "stream",
     "text": [
      "PARAMETER SELECTION IS DONE!\n",
      "PARAMETER SELECTION IS DONE!\n"
     ]
    },
    {
     "name": "stderr",
     "output_type": "stream",
     "text": [
      "/nfs/ghome/live/bbozkurt/.conda/envs/tensorenv/lib/python3.10/site-packages/keras/src/layers/core/dense.py:87: UserWarning: Do not pass an `input_shape`/`input_dim` argument to a layer. When using Sequential models, prefer using an `Input(shape)` object as the first layer in the model instead.\n",
      "  super().__init__(activity_regularizer=activity_regularizer, **kwargs)\n",
      "/nfs/ghome/live/bbozkurt/.conda/envs/tensorenv/lib/python3.10/site-packages/keras/src/layers/core/dense.py:87: UserWarning: Do not pass an `input_shape`/`input_dim` argument to a layer. When using Sequential models, prefer using an `Input(shape)` object as the first layer in the model instead.\n",
      "  super().__init__(activity_regularizer=activity_regularizer, **kwargs)\n"
     ]
    },
    {
     "name": "stdout",
     "output_type": "stream",
     "text": [
      "\u001b[1m4/4\u001b[0m \u001b[32m━━━━━━━━━━━━━━━━━━━━\u001b[0m\u001b[37m\u001b[0m \u001b[1m0s\u001b[0m 83ms/step\n",
      "\u001b[1m4/4\u001b[0m \u001b[32m━━━━━━━━━━━━━━━━━━━━\u001b[0m\u001b[37m\u001b[0m \u001b[1m0s\u001b[0m 11ms/step\n"
     ]
    },
    {
     "name": "stderr",
     "output_type": "stream",
     "text": [
      "Obs size 1000:  67%|██████▋   | 2/3 [02:37<01:18, 78.81s/it]/nfs/ghome/live/bbozkurt/.conda/envs/tensorenv/lib/python3.10/site-packages/keras/src/layers/core/dense.py:87: UserWarning: Do not pass an `input_shape`/`input_dim` argument to a layer. When using Sequential models, prefer using an `Input(shape)` object as the first layer in the model instead.\n",
      "  super().__init__(activity_regularizer=activity_regularizer, **kwargs)\n",
      "/nfs/ghome/live/bbozkurt/.conda/envs/tensorenv/lib/python3.10/site-packages/keras/src/layers/core/dense.py:87: UserWarning: Do not pass an `input_shape`/`input_dim` argument to a layer. When using Sequential models, prefer using an `Input(shape)` object as the first layer in the model instead.\n",
      "  super().__init__(activity_regularizer=activity_regularizer, **kwargs)\n",
      "/nfs/ghome/live/bbozkurt/.conda/envs/tensorenv/lib/python3.10/site-packages/keras/src/layers/core/dense.py:87: UserWarning: Do not pass an `input_shape`/`input_dim` argument to a layer. When using Sequential models, prefer using an `Input(shape)` object as the first layer in the model instead.\n",
      "  super().__init__(activity_regularizer=activity_regularizer, **kwargs)\n",
      "/nfs/ghome/live/bbozkurt/.conda/envs/tensorenv/lib/python3.10/site-packages/keras/src/layers/core/dense.py:87: UserWarning: Do not pass an `input_shape`/`input_dim` argument to a layer. When using Sequential models, prefer using an `Input(shape)` object as the first layer in the model instead.\n",
      "  super().__init__(activity_regularizer=activity_regularizer, **kwargs)\n",
      "/nfs/ghome/live/bbozkurt/.conda/envs/tensorenv/lib/python3.10/site-packages/keras/src/layers/core/dense.py:87: UserWarning: Do not pass an `input_shape`/`input_dim` argument to a layer. When using Sequential models, prefer using an `Input(shape)` object as the first layer in the model instead.\n",
      "  super().__init__(activity_regularizer=activity_regularizer, **kwargs)\n"
     ]
    },
    {
     "name": "stdout",
     "output_type": "stream",
     "text": [
      "PARAMETER SELECTION IS DONE!\n",
      "PARAMETER SELECTION IS DONE!\n"
     ]
    },
    {
     "name": "stderr",
     "output_type": "stream",
     "text": [
      "/nfs/ghome/live/bbozkurt/.conda/envs/tensorenv/lib/python3.10/site-packages/keras/src/layers/core/dense.py:87: UserWarning: Do not pass an `input_shape`/`input_dim` argument to a layer. When using Sequential models, prefer using an `Input(shape)` object as the first layer in the model instead.\n",
      "  super().__init__(activity_regularizer=activity_regularizer, **kwargs)\n",
      "/nfs/ghome/live/bbozkurt/.conda/envs/tensorenv/lib/python3.10/site-packages/keras/src/layers/core/dense.py:87: UserWarning: Do not pass an `input_shape`/`input_dim` argument to a layer. When using Sequential models, prefer using an `Input(shape)` object as the first layer in the model instead.\n",
      "  super().__init__(activity_regularizer=activity_regularizer, **kwargs)\n"
     ]
    },
    {
     "name": "stdout",
     "output_type": "stream",
     "text": [
      "\u001b[1m4/4\u001b[0m \u001b[32m━━━━━━━━━━━━━━━━━━━━\u001b[0m\u001b[37m\u001b[0m \u001b[1m0s\u001b[0m 83ms/step\n",
      "\u001b[1m4/4\u001b[0m \u001b[32m━━━━━━━━━━━━━━━━━━━━\u001b[0m\u001b[37m\u001b[0m \u001b[1m0s\u001b[0m 12ms/step\n"
     ]
    },
    {
     "name": "stderr",
     "output_type": "stream",
     "text": [
      "Obs size 1000: 100%|██████████| 3/3 [03:55<00:00, 78.67s/it]"
     ]
    },
    {
     "name": "stdout",
     "output_type": "stream",
     "text": [
      "[Parallel(n_jobs=-1)]: Using backend LokyBackend with 2 concurrent workers.\n"
     ]
    },
    {
     "name": "stderr",
     "output_type": "stream",
     "text": [
      "\n",
      "2025-05-19 10:34:07.614748: I tensorflow/core/util/port.cc:153] oneDNN custom operations are on. You may see slightly different numerical results due to floating-point round-off errors from different computation orders. To turn them off, set the environment variable `TF_ENABLE_ONEDNN_OPTS=0`.\n",
      "2025-05-19 10:34:07.614749: I tensorflow/core/util/port.cc:153] oneDNN custom operations are on. You may see slightly different numerical results due to floating-point round-off errors from different computation orders. To turn them off, set the environment variable `TF_ENABLE_ONEDNN_OPTS=0`.\n",
      "2025-05-19 10:34:07.656401: E external/local_xla/xla/stream_executor/cuda/cuda_fft.cc:467] Unable to register cuFFT factory: Attempting to register factory for plugin cuFFT when one has already been registered\n",
      "2025-05-19 10:34:07.656400: E external/local_xla/xla/stream_executor/cuda/cuda_fft.cc:467] Unable to register cuFFT factory: Attempting to register factory for plugin cuFFT when one has already been registered\n",
      "WARNING: All log messages before absl::InitializeLog() is called are written to STDERR\n",
      "WARNING: All log messages before absl::InitializeLog() is called are written to STDERR\n",
      "E0000 00:00:1747650847.691459 1528627 cuda_dnn.cc:8579] Unable to register cuDNN factory: Attempting to register factory for plugin cuDNN when one has already been registered\n",
      "E0000 00:00:1747650847.691459 1528628 cuda_dnn.cc:8579] Unable to register cuDNN factory: Attempting to register factory for plugin cuDNN when one has already been registered\n",
      "E0000 00:00:1747650847.701956 1528627 cuda_blas.cc:1407] Unable to register cuBLAS factory: Attempting to register factory for plugin cuBLAS when one has already been registered\n",
      "E0000 00:00:1747650847.702201 1528628 cuda_blas.cc:1407] Unable to register cuBLAS factory: Attempting to register factory for plugin cuBLAS when one has already been registered\n",
      "W0000 00:00:1747650847.729359 1528627 computation_placer.cc:177] computation placer already registered. Please check linkage and avoid linking the same target more than once.\n",
      "W0000 00:00:1747650847.729359 1528628 computation_placer.cc:177] computation placer already registered. Please check linkage and avoid linking the same target more than once.\n",
      "W0000 00:00:1747650847.729387 1528628 computation_placer.cc:177] computation placer already registered. Please check linkage and avoid linking the same target more than once.\n",
      "W0000 00:00:1747650847.729390 1528628 computation_placer.cc:177] computation placer already registered. Please check linkage and avoid linking the same target more than once.\n",
      "W0000 00:00:1747650847.729392 1528628 computation_placer.cc:177] computation placer already registered. Please check linkage and avoid linking the same target more than once.\n",
      "W0000 00:00:1747650847.729495 1528627 computation_placer.cc:177] computation placer already registered. Please check linkage and avoid linking the same target more than once.\n",
      "W0000 00:00:1747650847.729524 1528627 computation_placer.cc:177] computation placer already registered. Please check linkage and avoid linking the same target more than once.\n",
      "W0000 00:00:1747650847.729548 1528627 computation_placer.cc:177] computation placer already registered. Please check linkage and avoid linking the same target more than once.\n",
      "2025-05-19 10:34:07.736974: I tensorflow/core/platform/cpu_feature_guard.cc:210] This TensorFlow binary is optimized to use available CPU instructions in performance-critical operations.\n",
      "To enable the following instructions: AVX2 AVX512F AVX512_VNNI FMA, in other operations, rebuild TensorFlow with the appropriate compiler flags.\n",
      "2025-05-19 10:34:07.736974: I tensorflow/core/platform/cpu_feature_guard.cc:210] This TensorFlow binary is optimized to use available CPU instructions in performance-critical operations.\n",
      "To enable the following instructions: AVX2 AVX512F AVX512_VNNI FMA, in other operations, rebuild TensorFlow with the appropriate compiler flags.\n"
     ]
    },
    {
     "name": "stdout",
     "output_type": "stream",
     "text": [
      "[Parallel(n_jobs=-1)]: Done   1 tasks      | elapsed:   41.2s\n",
      "[Parallel(n_jobs=-1)]: Done   2 tasks      | elapsed:   41.3s\n",
      "[Parallel(n_jobs=-1)]: Done   3 tasks      | elapsed:  1.1min\n",
      "[Parallel(n_jobs=-1)]: Done   4 tasks      | elapsed:  1.1min\n",
      "[Parallel(n_jobs=-1)]: Done   5 tasks      | elapsed:  1.5min\n",
      "[Parallel(n_jobs=-1)]: Done   6 tasks      | elapsed:  1.6min\n",
      "[Parallel(n_jobs=-1)]: Done   7 tasks      | elapsed:  2.0min\n",
      "[Parallel(n_jobs=-1)]: Done   8 tasks      | elapsed:  2.0min\n",
      "[Parallel(n_jobs=-1)]: Done   9 tasks      | elapsed:  2.4min\n",
      "[Parallel(n_jobs=-1)]: Done  10 tasks      | elapsed:  2.4min\n",
      "[Parallel(n_jobs=-1)]: Done  11 tasks      | elapsed:  2.8min\n",
      "[Parallel(n_jobs=-1)]: Done  12 tasks      | elapsed:  2.8min\n",
      "[Parallel(n_jobs=-1)]: Done  13 tasks      | elapsed:  3.3min\n",
      "[Parallel(n_jobs=-1)]: Done  14 tasks      | elapsed:  3.3min\n",
      "[Parallel(n_jobs=-1)]: Done  15 tasks      | elapsed:  3.7min\n",
      "[Parallel(n_jobs=-1)]: Done  16 tasks      | elapsed:  3.7min\n",
      "[Parallel(n_jobs=-1)]: Done  17 tasks      | elapsed:  4.1min\n",
      "[Parallel(n_jobs=-1)]: Done  18 tasks      | elapsed:  4.1min\n",
      "[Parallel(n_jobs=-1)]: Done  19 tasks      | elapsed:  4.6min\n",
      "[Parallel(n_jobs=-1)]: Done  20 tasks      | elapsed:  4.6min\n",
      "[Parallel(n_jobs=-1)]: Done  21 tasks      | elapsed:  5.0min\n",
      "[Parallel(n_jobs=-1)]: Done  22 tasks      | elapsed:  5.0min\n",
      "[Parallel(n_jobs=-1)]: Done  23 tasks      | elapsed:  5.4min\n",
      "[Parallel(n_jobs=-1)]: Done  24 tasks      | elapsed:  5.4min\n",
      "[Parallel(n_jobs=-1)]: Done  25 tasks      | elapsed:  5.8min\n",
      "[Parallel(n_jobs=-1)]: Done  26 tasks      | elapsed:  5.9min\n",
      "[Parallel(n_jobs=-1)]: Done  27 tasks      | elapsed:  6.3min\n",
      "[Parallel(n_jobs=-1)]: Done  28 out of  30 | elapsed:  6.3min remaining:   27.0s\n",
      "[Parallel(n_jobs=-1)]: Done  30 out of  30 | elapsed:  6.7min finished\n"
     ]
    },
    {
     "name": "stderr",
     "output_type": "stream",
     "text": [
      "Obs size 5000:   0%|          | 0/3 [00:00<?, ?it/s]/nfs/ghome/live/bbozkurt/.conda/envs/tensorenv/lib/python3.10/site-packages/keras/src/layers/core/dense.py:87: UserWarning: Do not pass an `input_shape`/`input_dim` argument to a layer. When using Sequential models, prefer using an `Input(shape)` object as the first layer in the model instead.\n",
      "  super().__init__(activity_regularizer=activity_regularizer, **kwargs)\n",
      "/nfs/ghome/live/bbozkurt/.conda/envs/tensorenv/lib/python3.10/site-packages/keras/src/layers/core/dense.py:87: UserWarning: Do not pass an `input_shape`/`input_dim` argument to a layer. When using Sequential models, prefer using an `Input(shape)` object as the first layer in the model instead.\n",
      "  super().__init__(activity_regularizer=activity_regularizer, **kwargs)\n",
      "/nfs/ghome/live/bbozkurt/.conda/envs/tensorenv/lib/python3.10/site-packages/keras/src/layers/core/dense.py:87: UserWarning: Do not pass an `input_shape`/`input_dim` argument to a layer. When using Sequential models, prefer using an `Input(shape)` object as the first layer in the model instead.\n",
      "  super().__init__(activity_regularizer=activity_regularizer, **kwargs)\n",
      "/nfs/ghome/live/bbozkurt/.conda/envs/tensorenv/lib/python3.10/site-packages/keras/src/layers/core/dense.py:87: UserWarning: Do not pass an `input_shape`/`input_dim` argument to a layer. When using Sequential models, prefer using an `Input(shape)` object as the first layer in the model instead.\n",
      "  super().__init__(activity_regularizer=activity_regularizer, **kwargs)\n",
      "/nfs/ghome/live/bbozkurt/.conda/envs/tensorenv/lib/python3.10/site-packages/keras/src/layers/core/dense.py:87: UserWarning: Do not pass an `input_shape`/`input_dim` argument to a layer. When using Sequential models, prefer using an `Input(shape)` object as the first layer in the model instead.\n",
      "  super().__init__(activity_regularizer=activity_regularizer, **kwargs)\n"
     ]
    },
    {
     "name": "stdout",
     "output_type": "stream",
     "text": [
      "PARAMETER SELECTION IS DONE!\n",
      "PARAMETER SELECTION IS DONE!\n"
     ]
    },
    {
     "name": "stderr",
     "output_type": "stream",
     "text": [
      "/nfs/ghome/live/bbozkurt/.conda/envs/tensorenv/lib/python3.10/site-packages/keras/src/layers/core/dense.py:87: UserWarning: Do not pass an `input_shape`/`input_dim` argument to a layer. When using Sequential models, prefer using an `Input(shape)` object as the first layer in the model instead.\n",
      "  super().__init__(activity_regularizer=activity_regularizer, **kwargs)\n",
      "/nfs/ghome/live/bbozkurt/.conda/envs/tensorenv/lib/python3.10/site-packages/keras/src/layers/core/dense.py:87: UserWarning: Do not pass an `input_shape`/`input_dim` argument to a layer. When using Sequential models, prefer using an `Input(shape)` object as the first layer in the model instead.\n",
      "  super().__init__(activity_regularizer=activity_regularizer, **kwargs)\n"
     ]
    },
    {
     "name": "stdout",
     "output_type": "stream",
     "text": [
      "\u001b[1m20/20\u001b[0m \u001b[32m━━━━━━━━━━━━━━━━━━━━\u001b[0m\u001b[37m\u001b[0m \u001b[1m0s\u001b[0m 14ms/step\n",
      "\u001b[1m20/20\u001b[0m \u001b[32m━━━━━━━━━━━━━━━━━━━━\u001b[0m\u001b[37m\u001b[0m \u001b[1m0s\u001b[0m 3ms/step \n"
     ]
    },
    {
     "name": "stderr",
     "output_type": "stream",
     "text": [
      "Obs size 5000:  33%|███▎      | 1/3 [03:37<07:14, 217.33s/it]/nfs/ghome/live/bbozkurt/.conda/envs/tensorenv/lib/python3.10/site-packages/keras/src/layers/core/dense.py:87: UserWarning: Do not pass an `input_shape`/`input_dim` argument to a layer. When using Sequential models, prefer using an `Input(shape)` object as the first layer in the model instead.\n",
      "  super().__init__(activity_regularizer=activity_regularizer, **kwargs)\n",
      "/nfs/ghome/live/bbozkurt/.conda/envs/tensorenv/lib/python3.10/site-packages/keras/src/layers/core/dense.py:87: UserWarning: Do not pass an `input_shape`/`input_dim` argument to a layer. When using Sequential models, prefer using an `Input(shape)` object as the first layer in the model instead.\n",
      "  super().__init__(activity_regularizer=activity_regularizer, **kwargs)\n",
      "/nfs/ghome/live/bbozkurt/.conda/envs/tensorenv/lib/python3.10/site-packages/keras/src/layers/core/dense.py:87: UserWarning: Do not pass an `input_shape`/`input_dim` argument to a layer. When using Sequential models, prefer using an `Input(shape)` object as the first layer in the model instead.\n",
      "  super().__init__(activity_regularizer=activity_regularizer, **kwargs)\n",
      "/nfs/ghome/live/bbozkurt/.conda/envs/tensorenv/lib/python3.10/site-packages/keras/src/layers/core/dense.py:87: UserWarning: Do not pass an `input_shape`/`input_dim` argument to a layer. When using Sequential models, prefer using an `Input(shape)` object as the first layer in the model instead.\n",
      "  super().__init__(activity_regularizer=activity_regularizer, **kwargs)\n",
      "/nfs/ghome/live/bbozkurt/.conda/envs/tensorenv/lib/python3.10/site-packages/keras/src/layers/core/dense.py:87: UserWarning: Do not pass an `input_shape`/`input_dim` argument to a layer. When using Sequential models, prefer using an `Input(shape)` object as the first layer in the model instead.\n",
      "  super().__init__(activity_regularizer=activity_regularizer, **kwargs)\n"
     ]
    },
    {
     "name": "stdout",
     "output_type": "stream",
     "text": [
      "PARAMETER SELECTION IS DONE!\n",
      "PARAMETER SELECTION IS DONE!\n"
     ]
    },
    {
     "name": "stderr",
     "output_type": "stream",
     "text": [
      "/nfs/ghome/live/bbozkurt/.conda/envs/tensorenv/lib/python3.10/site-packages/keras/src/layers/core/dense.py:87: UserWarning: Do not pass an `input_shape`/`input_dim` argument to a layer. When using Sequential models, prefer using an `Input(shape)` object as the first layer in the model instead.\n",
      "  super().__init__(activity_regularizer=activity_regularizer, **kwargs)\n",
      "/nfs/ghome/live/bbozkurt/.conda/envs/tensorenv/lib/python3.10/site-packages/keras/src/layers/core/dense.py:87: UserWarning: Do not pass an `input_shape`/`input_dim` argument to a layer. When using Sequential models, prefer using an `Input(shape)` object as the first layer in the model instead.\n",
      "  super().__init__(activity_regularizer=activity_regularizer, **kwargs)\n"
     ]
    },
    {
     "name": "stdout",
     "output_type": "stream",
     "text": [
      "\u001b[1m20/20\u001b[0m \u001b[32m━━━━━━━━━━━━━━━━━━━━\u001b[0m\u001b[37m\u001b[0m \u001b[1m0s\u001b[0m 14ms/step\n",
      "\u001b[1m20/20\u001b[0m \u001b[32m━━━━━━━━━━━━━━━━━━━━\u001b[0m\u001b[37m\u001b[0m \u001b[1m0s\u001b[0m 3ms/step \n"
     ]
    },
    {
     "name": "stderr",
     "output_type": "stream",
     "text": [
      "Obs size 5000:  67%|██████▋   | 2/3 [07:16<03:38, 218.69s/it]/nfs/ghome/live/bbozkurt/.conda/envs/tensorenv/lib/python3.10/site-packages/keras/src/layers/core/dense.py:87: UserWarning: Do not pass an `input_shape`/`input_dim` argument to a layer. When using Sequential models, prefer using an `Input(shape)` object as the first layer in the model instead.\n",
      "  super().__init__(activity_regularizer=activity_regularizer, **kwargs)\n",
      "/nfs/ghome/live/bbozkurt/.conda/envs/tensorenv/lib/python3.10/site-packages/keras/src/layers/core/dense.py:87: UserWarning: Do not pass an `input_shape`/`input_dim` argument to a layer. When using Sequential models, prefer using an `Input(shape)` object as the first layer in the model instead.\n",
      "  super().__init__(activity_regularizer=activity_regularizer, **kwargs)\n",
      "/nfs/ghome/live/bbozkurt/.conda/envs/tensorenv/lib/python3.10/site-packages/keras/src/layers/core/dense.py:87: UserWarning: Do not pass an `input_shape`/`input_dim` argument to a layer. When using Sequential models, prefer using an `Input(shape)` object as the first layer in the model instead.\n",
      "  super().__init__(activity_regularizer=activity_regularizer, **kwargs)\n",
      "/nfs/ghome/live/bbozkurt/.conda/envs/tensorenv/lib/python3.10/site-packages/keras/src/layers/core/dense.py:87: UserWarning: Do not pass an `input_shape`/`input_dim` argument to a layer. When using Sequential models, prefer using an `Input(shape)` object as the first layer in the model instead.\n",
      "  super().__init__(activity_regularizer=activity_regularizer, **kwargs)\n",
      "/nfs/ghome/live/bbozkurt/.conda/envs/tensorenv/lib/python3.10/site-packages/keras/src/layers/core/dense.py:87: UserWarning: Do not pass an `input_shape`/`input_dim` argument to a layer. When using Sequential models, prefer using an `Input(shape)` object as the first layer in the model instead.\n",
      "  super().__init__(activity_regularizer=activity_regularizer, **kwargs)\n"
     ]
    },
    {
     "name": "stdout",
     "output_type": "stream",
     "text": [
      "PARAMETER SELECTION IS DONE!\n",
      "PARAMETER SELECTION IS DONE!\n"
     ]
    },
    {
     "name": "stderr",
     "output_type": "stream",
     "text": [
      "/nfs/ghome/live/bbozkurt/.conda/envs/tensorenv/lib/python3.10/site-packages/keras/src/layers/core/dense.py:87: UserWarning: Do not pass an `input_shape`/`input_dim` argument to a layer. When using Sequential models, prefer using an `Input(shape)` object as the first layer in the model instead.\n",
      "  super().__init__(activity_regularizer=activity_regularizer, **kwargs)\n",
      "/nfs/ghome/live/bbozkurt/.conda/envs/tensorenv/lib/python3.10/site-packages/keras/src/layers/core/dense.py:87: UserWarning: Do not pass an `input_shape`/`input_dim` argument to a layer. When using Sequential models, prefer using an `Input(shape)` object as the first layer in the model instead.\n",
      "  super().__init__(activity_regularizer=activity_regularizer, **kwargs)\n"
     ]
    },
    {
     "name": "stdout",
     "output_type": "stream",
     "text": [
      "\u001b[1m20/20\u001b[0m \u001b[32m━━━━━━━━━━━━━━━━━━━━\u001b[0m\u001b[37m\u001b[0m \u001b[1m0s\u001b[0m 13ms/step\n",
      "\u001b[1m20/20\u001b[0m \u001b[32m━━━━━━━━━━━━━━━━━━━━\u001b[0m\u001b[37m\u001b[0m \u001b[1m0s\u001b[0m 3ms/step \n"
     ]
    },
    {
     "name": "stderr",
     "output_type": "stream",
     "text": [
      "Obs size 5000: 100%|██████████| 3/3 [10:58<00:00, 219.34s/it]\n"
     ]
    }
   ],
   "source": [
    "import sys\n",
    "sys.path.append(\"..\")\n",
    "\n",
    "import numpy as np\n",
    "import pandas as pd\n",
    "# import matplotlib.pyplot as plt\n",
    "# import seaborn as sns\n",
    "from tqdm import tqdm\n",
    "from sklearn.metrics.pairwise import rbf_kernel\n",
    "# from scipy.spatial.distance import pdist\n",
    "from Environment import AvgEnvironment\n",
    "from Policy import MultinomialPolicy\n",
    "from ParameterSelector import ParameterSelector\n",
    "from Estimator_CPME import *\n",
    "# import joblib\n",
    "import os\n",
    "\n",
    "import tensorflow as tf\n",
    "print(tf.config.list_physical_devices('GPU'))\n",
    "\n",
    "config = {\n",
    "    \"n_users\": 30,\n",
    "    \"n_items\": 20,\n",
    "    \"context_dim\": 10,\n",
    "    \"n_reco\": 5,\n",
    "}\n",
    "\n",
    "obs_size = 100\n",
    "num_iter = 3\n",
    "observation_sizes = [100, 1000, 5000]\n",
    "\n",
    "def simulate_observation_size(obs_size, config, num_iter):\n",
    "    results = []\n",
    "\n",
    "    # === Generate environment ===\n",
    "    user_vectors = np.random.normal(0, 1, size=(config[\"n_users\"], config[\"context_dim\"]))\n",
    "    target_user_vectors = user_vectors * np.random.binomial(1, 0.5, size=user_vectors.shape)\n",
    "    item_vectors = np.random.normal(0, 1, size=(config[\"n_items\"], config[\"context_dim\"]))\n",
    "\n",
    "    alpha = -0.3\n",
    "    logging_user_vectors = alpha * target_user_vectors\n",
    "\n",
    "    logging_policy = MultinomialPolicy(item_vectors, logging_user_vectors, config[\"n_items\"], config[\"n_reco\"], temperature=0.5, cal_gamma=True)\n",
    "    target_policy = MultinomialPolicy(item_vectors, target_user_vectors, config[\"n_items\"], config[\"n_reco\"], temperature=1.0, cal_gamma=False)\n",
    "    environment = AvgEnvironment(item_vectors, user_vectors)\n",
    "\n",
    "    seeds = np.random.randint(np.iinfo(np.int32).max, size=num_iter)\n",
    "\n",
    "    for seed in tqdm(seeds, desc=f\"Obs size {obs_size}\"):\n",
    "        np.random.seed(seed)\n",
    "\n",
    "        # === Generate simulation data ===\n",
    "        sim_data = []\n",
    "        for _ in range(obs_size):\n",
    "            user = environment.get_context()\n",
    "\n",
    "            logging_reco, logging_multinomial, logging_user_vector = logging_policy.recommend(user)\n",
    "            target_reco, target_multinomial, _ = target_policy.recommend(user)\n",
    "\n",
    "            sim_data.append({\n",
    "                \"null_context_vec\": logging_user_vector,\n",
    "                \"target_context_vec\": logging_user_vector,\n",
    "                \"null_reco\": tuple(logging_reco),\n",
    "                \"null_reco_vec\": np.concatenate(item_vectors[logging_reco]),\n",
    "                \"null_reward\": environment.get_reward(user, logging_reco),\n",
    "                \"target_reco\": tuple(target_reco),\n",
    "                \"target_multinomial\": target_multinomial,\n",
    "                \"target_reco_vec\": np.concatenate(item_vectors[target_reco]),\n",
    "                \"target_reward\": environment.get_reward(user, target_reco),\n",
    "                \"null_multinomial\": logging_multinomial,\n",
    "                \"user\": user,\n",
    "            })\n",
    "\n",
    "        sim_data = pd.DataFrame(sim_data)\n",
    "\n",
    "        # === Prepare estimators ===\n",
    "        # behavior_estimator = BehaviorPolicyEstimator(config[\"n_items\"])\n",
    "        # user_features = np.vstack(sim_data[\"null_context_vec\"].values)\n",
    "        # actions = [r[0] for r in sim_data[\"null_reco\"].values]  # Taking first item as action\n",
    "\n",
    "        # behavior_estimator.fit(user_features, actions)\n",
    "\n",
    "        estimators = [\n",
    "            IPSEstimator(logging_policy, target_policy, null_propensity_known = True),\n",
    "            DirectEstimator(),\n",
    "            DoublyRobustEstimator(logging_policy, target_policy, null_propensity_known = True),\n",
    "            # CMEstimator(rbf_kernel, rbf_kernel, params=[5e-5, 1.0, 1.0]),\n",
    "            # DRCMEstimator(rbf_kernel, rbf_kernel, [1e-3, 1.0, 1.0], logging_policy, target_policy), \n",
    "            CMEbis(rbf_kernel, rbf_kernel, params=[5e-5, 1.0, 1.0]),\n",
    "            DoublyRobustbis(rbf_kernel, rbf_kernel, [5e-5, 1.0, 1.0], logging_policy, target_policy, null_propensity_known = True)\n",
    "        ]\n",
    "\n",
    "        # parameter selection\n",
    "        direct_selector = ParameterSelector(estimators[1])  # direct estimator\n",
    "        params_grid = [(n_hiddens, 1024, 100) for n_hiddens in [50, 100, 150, 200]]\n",
    "        direct_selector.select_from_propensity(sim_data, params_grid, logging_policy, target_policy)\n",
    "        estimators[1] = direct_selector.estimator\n",
    "        \n",
    "        estimators[2].params = direct_selector.parameters  # doubly robust estimator\n",
    "        \n",
    "        cme_selector = ParameterSelector(estimators[3])  # cme estimator\n",
    "        # params_grid = [[(10.0 ** p) / config['n_observation'], 1.0, 1.0] for p in np.arange(-7, 0, 1)]\n",
    "        params_grid = [[(10.0 ** p), 1.0, 1.0] for p in np.arange(-8, -1, 1)]\n",
    "        cme_selector.select_from_propensity(sim_data, params_grid, logging_policy, target_policy)\n",
    "        estimators[3] = cme_selector.estimator\n",
    "        \n",
    "        estimators[4].params = estimators[3]._params\n",
    "        # === Prepare features for reward estimators ===\n",
    "        logging_context_vec = np.vstack(sim_data[\"null_context_vec\"].dropna().values)\n",
    "        logging_reco_vec = np.vstack(sim_data[\"null_reco_vec\"].dropna().values)\n",
    "        logging_reward = sim_data[\"null_reward\"].dropna().values\n",
    "\n",
    "        X_logging = np.hstack([logging_context_vec, logging_reco_vec])\n",
    "\n",
    "        # === Train reward models where needed ===\n",
    "        for estimator in estimators:\n",
    "            if isinstance(estimator, DirectEstimator):\n",
    "                estimator.fit(X_logging, logging_reward, n_hidden_units=estimator.params[0], batch_size=1024, epochs=100)\n",
    "            if isinstance(estimator, DoublyRobustEstimator):\n",
    "                estimator.fit(X_logging, logging_reward)\n",
    "\n",
    "        # === Calculate results ===\n",
    "        actual_value = np.mean(sim_data[\"target_reward\"])\n",
    "\n",
    "        for estimator in estimators:\n",
    "            est_value = estimator.estimate(sim_data)\n",
    "            mse = (est_value - actual_value) ** 2\n",
    "            results.append({\n",
    "                \"Estimator\": estimator.name,\n",
    "                \"MSE\": mse,\n",
    "                \"Observation Size\": obs_size\n",
    "            })\n",
    "\n",
    "    return pd.DataFrame(results)\n",
    "\n",
    "\n",
    "# Running the simulation\n",
    "full_results = pd.concat(\n",
    "    [simulate_observation_size(n, config, num_iter) for n in observation_sizes]\n",
    ")\n",
    "\n",
    "# full_results = joblib.Parallel(n_jobs=-1, verbose=0)(\n",
    "#             joblib.delayed(simulate_observation_size)(n, config, num_iter) for n in observation_sizes\n",
    "#         )\n",
    "\n",
    "# Plotting results\n",
    "\n",
    "# sns.set(style=\"whitegrid\")\n",
    "# plt.figure(figsize=(8, 5))\n",
    "# sns.lineplot(\n",
    "#     data=full_results, x=\"Observation Size\", y=\"MSE\", hue=\"Estimator\", marker=\"o\"\n",
    "# )\n",
    "# plt.yscale(\"log\")\n",
    "# plt.title(\"Number of Observations vs MSE\")\n",
    "# plt.tight_layout()\n",
    "# plt.show()"
   ]
  },
  {
   "cell_type": "code",
   "execution_count": 4,
   "id": "45e67d36-21de-4759-ac77-c7995dcd1300",
   "metadata": {},
   "outputs": [
    {
     "data": {
      "image/png": "[encoded data removed]",
      "text/plain": [
       "<Figure size 800x500 with 1 Axes>"
      ]
     },
     "metadata": {},
     "output_type": "display_data"
    }
   ],
   "source": [
    "# Plotting results\n",
    "\n",
    "import matplotlib.pyplot as plt\n",
    "import seaborn as sns\n",
    "sns.set(style=\"whitegrid\")\n",
    "plt.figure(figsize=(8, 5))\n",
    "sns.boxplot(\n",
    "    data=full_results, x=\"Observation Size\", y=\"MSE\", hue=\"Estimator\", \n",
    "    # marker=\"o\"\n",
    ")\n",
    "plt.yscale(\"log\")\n",
    "plt.title(\"Number of Observations vs MSE\")\n",
    "plt.tight_layout()\n",
    "plt.show()"
   ]
  },
  {
   "cell_type": "code",
   "execution_count": null,
   "id": "ec978040-b7ec-4971-bad1-a36daa632547",
   "metadata": {},
   "outputs": [],
   "source": []
  }
 ],
 "metadata": {
  "kernelspec": {
   "display_name": "Python 3 (ipykernel)",
   "language": "python",
   "name": "python3"
  },
  "language_info": {
   "codemirror_mode": {
    "name": "ipython",
    "version": 3
   },
   "file_extension": ".py",
   "mimetype": "text/x-python",
   "name": "python",
   "nbconvert_exporter": "python",
   "pygments_lexer": "ipython3",
   "version": "3.10.16"
  }
 },
 "nbformat": 4,
 "nbformat_minor": 5
}
